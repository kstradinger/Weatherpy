{
 "cells": [
  {
   "cell_type": "markdown",
   "metadata": {},
   "source": [
    "# WeatherPy\n",
    "----\n",
    "\n",
    "#### Note\n",
    "* Instructions have been included for each segment. You do not have to follow them exactly, but they are included to help you think through the steps."
   ]
  },
  {
   "cell_type": "code",
   "execution_count": 2,
   "metadata": {
    "scrolled": true
   },
   "outputs": [],
   "source": [
    "# Dependencies and Setup\n",
    "import matplotlib.pyplot as plt\n",
    "import pandas as pd\n",
    "import numpy as np\n",
    "import requests\n",
    "import time\n",
    "\n",
    "# Import API key\n",
    "from config import owm_api_key\n",
    "\n",
    "# Incorporated citipy to determine city based on latitude and longitude\n",
    "from citipy import citipy\n",
    "\n",
    "# Output File (CSV)\n",
    "output_data_file = \"output_data/cities.csv\"\n",
    "\n",
    "# Range of latitudes and longitudes\n",
    "lat_range = (-90, 90)\n",
    "lng_range = (-180, 180)"
   ]
  },
  {
   "cell_type": "code",
   "execution_count": null,
   "metadata": {},
   "outputs": [],
   "source": []
  },
  {
   "cell_type": "markdown",
   "metadata": {},
   "source": [
    "## Generate Cities List"
   ]
  },
  {
   "cell_type": "code",
   "execution_count": 3,
   "metadata": {},
   "outputs": [
    {
     "data": {
      "text/plain": [
       "635"
      ]
     },
     "execution_count": 3,
     "metadata": {},
     "output_type": "execute_result"
    }
   ],
   "source": [
    "# List for holding lat_lngs and cities\n",
    "lat_lngs = []\n",
    "cities = []\n",
    "\n",
    "# Create a set of random lat and lng combinations\n",
    "lats = np.random.uniform(low=-90.000, high=90.000, size=1500)\n",
    "lngs = np.random.uniform(low=-180.000, high=180.000, size=1500)\n",
    "lat_lngs = zip(lats, lngs)\n",
    "\n",
    "# Identify nearest city for each lat, lng combination\n",
    "for lat_lng in lat_lngs:\n",
    "    city = citipy.nearest_city(lat_lng[0], lat_lng[1]).city_name\n",
    "    \n",
    "    # If the city is unique, then add it to a our cities list\n",
    "    if city not in cities:\n",
    "        cities.append(city)\n",
    "\n",
    "# Print the city count to confirm sufficient count\n",
    "len(cities)"
   ]
  },
  {
   "cell_type": "code",
   "execution_count": 4,
   "metadata": {},
   "outputs": [],
   "source": [
    "# Save config information.\n",
    "url = \"http://api.openweathermap.org/data/2.5/weather?\"\n",
    "units = \"metric\"\n",
    "\n",
    "# Build partial query URL\n",
    "query_url = f\"{url}appid={owm_api_key}={units}&q=\""
   ]
  },
  {
   "cell_type": "code",
   "execution_count": 5,
   "metadata": {},
   "outputs": [],
   "source": [
    "import pprint"
   ]
  },
  {
   "cell_type": "code",
   "execution_count": 6,
   "metadata": {},
   "outputs": [
    {
     "name": "stdout",
     "output_type": "stream",
     "text": [
      "['saint-joseph', 'nanortalik', 'barentsburg', 'longyearbyen', 'nizhneyansk', 'semey', 'albany', 'ushuaia', 'vestmannaeyjar', 'hereford', 'norman wells', 'sola', 'san lorenzo', 'horki', 'hobart', 'port lincoln', 'victoria', 'demba', 'busselton', 'ruwi', 'balakovo', 'the pas', 'aberdeen', 'torbay', 'svetlyy', 'vaini', 'hermanus', 'airai', 'manicore', 'ocampo', 'georgetown', 'khatanga', 'atuona', 'illoqqortoormiut', 'dabola', 'martapura', 'kota bahru', 'ponta do sol', 'rio grande', 'serta', 'ust-kuyga', 'kupang', 'upernavik', 'butaritari', 'amga', 'labuhan', 'new panay', 'gemena', 'beringovskiy', 'fortuna', 'irimbo', 'ukiah', 'puerto ayora', 'klaksvik', 'kutum', 'kapaa', 'mingyue', 'santa isabel do rio negro', 'julich', 'bandarbeyla', 'tessalit', 'kaabong', 'castro', 'ribeira grande', 'reguengos de monsaraz', 'saint anthony', 'porto belo', 'puri', 'port elizabeth', 'shieli', 'general roca', 'koshurnikovo', 'rikitea', 'san quintin', 'port blair', 'tuktoyaktuk', 'tutoia', 'saskylakh', 'asau', 'lac du bonnet', 'hilo', 'cape town', 'hay river', 'kangaatsiaq', 'yellowknife', 'qaanaaq', 'gharb', 'mys shmidta', 'thompson', 'punta arenas', 'haines junction', 'belushya guba', 'rapid valley', 'quibdo', 'pevek', 'memaliaj', 'lebu', 'bambous virieux', 'bluff', 'san policarpo', 'lasa', 'plettenberg bay', 'waipawa', 'matara', 'yaring', 'carnarvon', 'rawson', 'new norfolk', 'port alfred', 'iqaluit', 'murmashi', 'lima', 'acapulco', 'sakhon nakhon', 'havre-saint-pierre', 'milkovo', 'vestmanna', 'narsaq', 'itarema', 'luderitz', 'clyde river', 'alice springs', 'ust-kamchatsk', 'conde', 'sokol', 'namibe', 'birjand', 'honiara', 'jamestown', 'mataura', 'caledon', 'tsihombe', 'mahebourg', 'mao', 'flin flon', 'urumqi', 'lavrentiya', 'kruisfontein', 'avera', 'geraldton', 'avarua', 'saint-augustin', 'grand river south east', 'bredasdorp', 'bisert', 'grand gaube', 'toliary', 'puerto escondido', 'saint-philippe', 'mount gambier', 'camargo', 'te anau', 'east london', 'karaman', 'cherskiy', 'loandjili', 'shetpe', 'taolanaro', 'tocopilla', 'biak', 'devli', 'gorontalo', 'lorengau', 'mangrol', 'saint george', 'thunder bay', 'katakwi', 'piacabucu', 'jena', 'el cope', 'mergui', 'angoche', 'bonavista', 'olafsvik', 'sorong', 'tuatapere', 'hailar', 'grindavik', 'marawi', 'kolpny', 'oxford', 'arraial do cabo', 'buala', 'mar del plata', 'shadegan', 'provideniya', 'werda', 'shelburne', 'amderma', 'byron bay', 'oussouye', 'tual', 'kavakli', 'marand', 'bima', 'san fernando', 'pangnirtung', 'dikson', 'makakilo city', 'sao jose da coroa grande', 'yerbogachen', 'ulkan', 'mezhdurechensk', 'khandbari', 'vincennes', 'zhangye', 'asyut', 'gat', 'tiksi', 'banyuwangi', 'hervey bay', 'north bend', 'takoradi', 'noumea', 'kalmunai', 'sao filipe', 'fare', 'tidore', 'mandalgovi', 'mayo', 'chuy', 'ayan', 'muros', 'richards bay', 'lata', 'chavakkad', 'jatai', 'kijang', 'san cristobal', 'leningradskiy', 'reconquista', 'otukpo', 'salta', 'umzimvubu', 'esso', 'davila', 'montecristo', 'chiredzi', 'russell', 'yumen', 'maiduguri', 'monrovia', 'nuuk', 'egvekinot', 'porto murtinho', 'sandila', 'meulaboh', 'ambilobe', 'hithadhoo', 'ha giang', 'hemnesberget', 'kavieng', 'hambantota', 'megion', 'santarem', 'soyo', 'marsa matruh', 'vila franca do campo', 'samdrup jongkhar', 'hurghada', 'broome', 'muhos', 'samarai', 'saldanha', 'lumphat', 'vaovai', 'sobolevo', 'tura', 'tervel', 'japura', 'maniitsoq', 'ahipara', 'banda aceh', 'dovolnoye', 'akonolinga', 'bubaque', 'mount isa', 'korla', 'huoqiu', 'ilulissat', 'utiroa', 'tautira', 'adamovka', 'lakes entrance', 'praia', 'tawkar', 'terrace', 'qesarya', 'vostok', 'orange', 'bengkulu', 'isangel', 'abu samrah', 'acajutla', 'vardo', 'cilaos', 'santo amaro da imperatriz', 'barrow', 'khvorostyanka', 'bardiyah', 'pyaozerskiy', 'pisco', 'cody', 'vila velha', 'kitgum', 'kenora', 'gazanjyk', 'roebourne', 'cabo san lucas', 'nikolskoye', 'fairbanks', 'sept-iles', 'seoul', 'slonim', 'kamenskoye', 'naze', 'lufilufi', 'hamminkeln', 'katsuura', 'leshukonskoye', 'pocao de pedras', 'comodoro rivadavia', 'san blas', 'banjar', 'karauzyak', 'camflora', 'raga', 'montepuez', 'coihaique', 'kaeo', 'kantang', 'santa cruz', 'mongo', 'inderborskiy', 'akita', 'ballina', 'sechura', 'chabahar', 'tasiilaq', 'qaqortoq', 'yamada', 'kaina', 'paita', 'shubarkuduk', 'marcona', 'beidao', 'codrington', 'artyk', 'mitsamiouli', 'garowe', 'mongar', 'lodja', 'mildura', 'ganzhou', 'sentyabrskiy', 'anshun', 'muravlenko', 'manggar', 'coihueco', 'qasigiannguit', 'illkirch-graffenstaden', 'tanete', 'jumla', 'verkhnevilyuysk', 'champerico', 'puerto madryn', 'adeje', 'skjervoy', 'attawapiskat', 'rodnykove', 'imeni poliny osipenko', 'tejupilco', 'jati', 'harbour breton', 'likasi', 'berlevag', 'ivdel', 'grove city', 'pijijiapan', 'yulin', 'sao raimundo das mangabeiras', 'wanning', 'saint-prosper', 'kodiak', 'maputo', 'pacatuba', 'kaitangata', 'moose factory', 'benavente', 'dawei', 'fonte boa', 'freeport', 'cayenne', 'aswan', 'severo-kurilsk', 'gold coast', 'toamasina', 'cidreira', 'rovinj', 'kidal', 'chippewa falls', 'manavalakurichi', 'camana', 'camacha', 'chokurdakh', 'souillac', 'roma', 'alamogordo', 'belmonte', 'pecos', 'tartki', 'ayagoz', 'faya', 'komsomolskiy', 'sinnamary', 'haapu', 'teknaf', 'wufeng', 'den helder', 'hasaki', 'aykhal', 'guaruja', 'viedma', 'sayyan', 'batemans bay', 'moskovskiy', 'talawdi', 'amapa', 'constitucion', 'san vicente', 'concordia', 'husavik', 'warqla', 'williamsport', 'kathmandu', 'grand-santi', 'boueni', 'ostrovnoy', 'rabo de peixe', 'calvinia', 'coahuayana', 'moga', 'breytovo', 'owando', 'labranzagrande', 'bernau', 'fairmont', 'markala', 'san luis', 'lompoc', 'aksarka', 'sabha', 'zhuhai', 'nieuw amsterdam', 'nazas', 'barao de melgaco', 'tukums', 'riyadh', 'viline', 'xuddur', 'chake chake', 'monster', 'nyrob', 'muisne', 'zeltweg', 'nhulunbuy', 'vondrozo', 'saint-pierre', 'bonthe', 'bermejo', 'medzilaborce', 'ruatoria', 'colesberg', 'marsh harbour', 'quatre cocos', 'bilma', 'tra vinh', 'mackay', 'rocha', 'half moon bay', 'margate', 'kavaratti', 'belaya kholunitsa', 'lamu', 'ust-nera', 'nadym', 'oistins', 'togitsu', 'oranjemund', 'nelson bay', 'kamir', 'ouallam', 'kathu', 'trinidad', 'ponta pora', 'yulara', 'yeysk', 'nome', 'kawalu', 'mitha tiwana', 'ancud', 'cap malheureux', 'smithers', 'berezovyy', 'sumbe', 'brownsville', 'gorgan', 'college', 'aklavik', 'mentok', 'asopos', 'salekhard', 'taltal', 'hyeres', 'raudeberg', 'yar-sale', 'coquimbo', 'yarmouth', 'melfort', 'tufanganj', 'jadu', 'hualmay', 'nantucket', 'hihifo', 'termoli', 'kelvington', 'saleaula', 'christchurch', 'paradwip', 'guerrero negro', 'del rio', 'salalah', 'eagle pass', 'naujamiestis', 'nizhnevartovsk', 'severobaykalsk', 'flinders', 'chagda', 'shengjin', 'bathsheba', 'adrar', 'mardin', 'hun', 'mogadishu', 'jimenez', 'ixtapa', 'kuche', 'puerto leguizamo', 'lengshuijiang', 'utrecht', 'kautokeino', 'mahibadhoo', 'san nicolas', 'nioro', 'omsukchan', 'mecca', 'guangyuan', 'hirakud', 'laranjeiras do sul', 'bahia blanca', 'mosquera', 'radinac', 'walvis bay', 'pouembout', 'fairview', 'sainte-thecle', 'la ronge', 'bulakamba', 'mehamn', 'felidhoo', 'pierre', 'tahoua', 'novyy urengoy', 'mombasa', 'svetlaya', 'longkou', 'vestnes', 'havoysund', 'bobrovka', 'anahuac', 'mizdah', 'willowmore', 'goderich', 'hami', 'bail hongal', 'catuday', 'sarapul', 'mandiana', 'digby', 'taburi', 'kapiri mposhi', 'skiros', 'karpathos', 'dicabisagan', 'parana', 'mudkhed', 'kungalv', 'gao', 'nova vicosa', 'vao', 'carballo', 'santa marta', 'tabiauea', 'faanui', 'araguacu', 'maues', 'tecoanapa', 'heiligenhafen', 'sabang', 'tarudant', 'karkaralinsk', 'phulabani', 'esperance', 'bolshoy lug', 'bethel', 'neiafu', 'lazaro cardenas', 'jefferson city', 'petropavlovsk-kamchatskiy', 'caibarien', 'palmer', 'kazalinsk', 'ulcinj', 'cedar lake', 'paamiut', 'belyy yar', 'koboldo', 'visnes', 'groningen', 'orbassano', 'chernyshevskiy', 'evensk', 'riviere-au-renard', 'basco', 'edd']\n"
     ]
    }
   ],
   "source": [
    "print(cities)"
   ]
  },
  {
   "cell_type": "code",
   "execution_count": 7,
   "metadata": {},
   "outputs": [],
   "source": [
    "city_list =[]\n",
    "country =[]\n",
    "cloudiness =[]\n",
    "lat=[]\n",
    "lng=[]\n",
    "humidity=[]\n",
    "max_temp=[]\n",
    "windspeed=[]"
   ]
  },
  {
   "cell_type": "code",
   "execution_count": 8,
   "metadata": {
    "scrolled": true
   },
   "outputs": [
    {
     "name": "stdout",
     "output_type": "stream",
     "text": [
      "The city is : saint-joseph, the lattitude is 43.56, the temperature is 31.67, the cloudiness is 75, the humidity is 78, the windspeed is 1.5\n",
      "The city is : nanortalik, the lattitude is 60.14, the temperature is 8.6, the cloudiness is 100, the humidity is 72, the windspeed is 0.42\n",
      "City not found... skipping.\n",
      "The city is : longyearbyen, the lattitude is 78.22, the temperature is 9, the cloudiness is 0, the humidity is 76, the windspeed is 2.1\n",
      "City not found... skipping.\n",
      "The city is : semey, the lattitude is 50.41, the temperature is 25, the cloudiness is 0, the humidity is 57, the windspeed is 8\n",
      "The city is : albany, the lattitude is 42.65, the temperature is 30.56, the cloudiness is 20, the humidity is 39, the windspeed is 2.1\n",
      "The city is : ushuaia, the lattitude is -54.81, the temperature is 5, the cloudiness is 20, the humidity is 93, the windspeed is 2.14\n",
      "The city is : vestmannaeyjar, the lattitude is 63.44, the temperature is 12, the cloudiness is 20, the humidity is 93, the windspeed is 3.1\n",
      "The city is : hereford, the lattitude is 52.06, the temperature is 24, the cloudiness is 20, the humidity is 50, the windspeed is 1\n",
      "The city is : norman wells, the lattitude is 65.28, the temperature is 17, the cloudiness is 75, the humidity is 77, the windspeed is 5.1\n",
      "The city is : sola, the lattitude is -3.17, the temperature is 22.6, the cloudiness is 81, the humidity is 52, the windspeed is 5.33\n",
      "The city is : san lorenzo, the lattitude is 13.43, the temperature is 38, the cloudiness is 0, the humidity is 45, the windspeed is 2.1\n",
      "The city is : horki, the lattitude is 54.29, the temperature is 10.7, the cloudiness is 2, the humidity is 92, the windspeed is 2.16\n",
      "The city is : hobart, the lattitude is -42.88, the temperature is 7.22, the cloudiness is 100, the humidity is 91, the windspeed is 1.27\n",
      "The city is : port lincoln, the lattitude is -34.72, the temperature is 12.9, the cloudiness is 37, the humidity is 72, the windspeed is 3.62\n",
      "The city is : victoria, the lattitude is 5.28, the temperature is 27, the cloudiness is 75, the humidity is 88, the windspeed is 2.89\n",
      "The city is : demba, the lattitude is -5.47, the temperature is 25, the cloudiness is 44, the humidity is 49, the windspeed is 0.8\n",
      "The city is : busselton, the lattitude is -33.64, the temperature is 13.33, the cloudiness is 100, the humidity is 52, the windspeed is 6.78\n",
      "The city is : ruwi, the lattitude is 23.6, the temperature is 33, the cloudiness is 16, the humidity is 75, the windspeed is 0.5\n",
      "The city is : balakovo, the lattitude is 52.02, the temperature is 13.5, the cloudiness is 100, the humidity is 80, the windspeed is 3.2\n",
      "The city is : the pas, the lattitude is 53.82, the temperature is 25, the cloudiness is 75, the humidity is 57, the windspeed is 7.7\n",
      "The city is : aberdeen, the lattitude is 46.98, the temperature is 22.22, the cloudiness is 90, the humidity is 77, the windspeed is 4.1\n",
      "The city is : torbay, the lattitude is 47.66, the temperature is 26.11, the cloudiness is 20, the humidity is 53, the windspeed is 7.7\n",
      "City not found... skipping.\n",
      "The city is : vaini, the lattitude is 15.34, the temperature is 24.7, the cloudiness is 100, the humidity is 91, the windspeed is 3.58\n",
      "The city is : hermanus, the lattitude is -34.42, the temperature is 12.78, the cloudiness is 9, the humidity is 89, the windspeed is 1.42\n",
      "The city is : airai, the lattitude is -8.93, the temperature is 16.9, the cloudiness is 77, the humidity is 86, the windspeed is 2.54\n",
      "The city is : manicore, the lattitude is -5.81, the temperature is 34, the cloudiness is 20, the humidity is 49, the windspeed is 2.6\n",
      "The city is : ocampo, the lattitude is 27.32, the temperature is 29.6, the cloudiness is 13, the humidity is 29, the windspeed is 5.68\n",
      "The city is : georgetown, the lattitude is 6.8, the temperature is 31, the cloudiness is 20, the humidity is 70, the windspeed is 6.2\n",
      "The city is : khatanga, the lattitude is 71.98, the temperature is 13.3, the cloudiness is 52, the humidity is 58, the windspeed is 2.11\n",
      "The city is : atuona, the lattitude is -9.8, the temperature is 26.6, the cloudiness is 22, the humidity is 77, the windspeed is 9.31\n",
      "City not found... skipping.\n",
      "The city is : dabola, the lattitude is 10.74, the temperature is 20.9, the cloudiness is 100, the humidity is 95, the windspeed is 0.83\n",
      "The city is : martapura, the lattitude is -3.41, the temperature is 22.9, the cloudiness is 61, the humidity is 87, the windspeed is 4\n",
      "City not found... skipping.\n",
      "The city is : ponta do sol, the lattitude is -20.63, the temperature is 22.3, the cloudiness is 98, the humidity is 43, the windspeed is 0.71\n",
      "The city is : rio grande, the lattitude is -32.03, the temperature is 16, the cloudiness is 20, the humidity is 41, the windspeed is 7.2\n",
      "The city is : serta, the lattitude is 46.01, the temperature is 22, the cloudiness is 0, the humidity is 77, the windspeed is 1.5\n",
      "The city is : ust-kuyga, the lattitude is 70, the temperature is 10.1, the cloudiness is 0, the humidity is 53, the windspeed is 1.85\n",
      "The city is : kupang, the lattitude is -10.16, the temperature is 23.3, the cloudiness is 28, the humidity is 68, the windspeed is 8.42\n",
      "The city is : upernavik, the lattitude is 72.79, the temperature is 9.1, the cloudiness is 11, the humidity is 66, the windspeed is 3.76\n",
      "The city is : butaritari, the lattitude is 3.07, the temperature is 29.4, the cloudiness is 100, the humidity is 67, the windspeed is 4.27\n",
      "The city is : amga, the lattitude is 60.89, the temperature is 12.1, the cloudiness is 100, the humidity is 67, the windspeed is 1.26\n",
      "The city is : labuhan, the lattitude is -2.54, the temperature is 19.4, the cloudiness is 7, the humidity is 84, the windspeed is 0.71\n",
      "The city is : new panay, the lattitude is 6.85, the temperature is 22.8, the cloudiness is 100, the humidity is 92, the windspeed is 0.63\n",
      "The city is : gemena, the lattitude is 3.25, the temperature is 21.6, the cloudiness is 1, the humidity is 94, the windspeed is 1.05\n",
      "The city is : beringovskiy, the lattitude is 63.05, the temperature is 7.1, the cloudiness is 100, the humidity is 92, the windspeed is 4.36\n",
      "The city is : fortuna, the lattitude is 40.6, the temperature is 28.33, the cloudiness is 20, the humidity is 77, the windspeed is 7.2\n",
      "The city is : irimbo, the lattitude is 19.7, the temperature is 25, the cloudiness is 20, the humidity is 41, the windspeed is 3.13\n",
      "The city is : ukiah, the lattitude is 39.15, the temperature is 31.67, the cloudiness is 1, the humidity is 37, the windspeed is 2.6\n",
      "The city is : puerto ayora, the lattitude is -0.74, the temperature is 26, the cloudiness is 75, the humidity is 65, the windspeed is 2.1\n",
      "The city is : klaksvik, the lattitude is 62.23, the temperature is 13, the cloudiness is 100, the humidity is 87, the windspeed is 2.1\n",
      "The city is : kutum, the lattitude is 14.2, the temperature is 23.1, the cloudiness is 100, the humidity is 68, the windspeed is 4.42\n",
      "The city is : kapaa, the lattitude is 22.08, the temperature is 29, the cloudiness is 75, the humidity is 78, the windspeed is 7.2\n",
      "The city is : mingyue, the lattitude is 43.11, the temperature is 17.8, the cloudiness is 98, the humidity is 87, the windspeed is 0.4\n",
      "The city is : santa isabel do rio negro, the lattitude is -0.41, the temperature is 27.3, the cloudiness is 97, the humidity is 89, the windspeed is 1.5\n",
      "The city is : julich, the lattitude is 50.93, the temperature is 19, the cloudiness is 75, the humidity is 93, the windspeed is 3.6\n",
      "The city is : bandarbeyla, the lattitude is 9.49, the temperature is 24.5, the cloudiness is 100, the humidity is 70, the windspeed is 6.56\n",
      "The city is : tessalit, the lattitude is 20.2, the temperature is 38.6, the cloudiness is 9, the humidity is 12, the windspeed is 3.13\n",
      "The city is : kaabong, the lattitude is 3.51, the temperature is 17.8, the cloudiness is 37, the humidity is 69, the windspeed is 1.84\n",
      "The city is : castro, the lattitude is -42.48, the temperature is 9, the cloudiness is 75, the humidity is 87, the windspeed is 4.6\n",
      "The city is : ribeira grande, the lattitude is 38.52, the temperature is 23, the cloudiness is 20, the humidity is 64, the windspeed is 6.7\n",
      "The city is : reguengos de monsaraz, the lattitude is 38.42, the temperature is 29, the cloudiness is 0, the humidity is 37, the windspeed is 5.7\n"
     ]
    },
    {
     "name": "stdout",
     "output_type": "stream",
     "text": [
      "The city is : saint anthony, the lattitude is 43.97, the temperature is 28, the cloudiness is 1, the humidity is 39, the windspeed is 0.7\n",
      "The city is : porto belo, the lattitude is -27.15, the temperature is 16.67, the cloudiness is 75, the humidity is 82, the windspeed is 4.6\n",
      "The city is : puri, the lattitude is -7.54, the temperature is 21.4, the cloudiness is 2, the humidity is 81, the windspeed is 4.54\n",
      "The city is : port elizabeth, the lattitude is 39.31, the temperature is 31.67, the cloudiness is 20, the humidity is 74, the windspeed is 4.6\n",
      "The city is : shieli, the lattitude is 44.18, the temperature is 23, the cloudiness is 0, the humidity is 21, the windspeed is 3.91\n",
      "The city is : general roca, the lattitude is -39.03, the temperature is 14, the cloudiness is 0, the humidity is 28, the windspeed is 3.6\n",
      "The city is : koshurnikovo, the lattitude is 54.3, the temperature is 15.5, the cloudiness is 0, the humidity is 89, the windspeed is 0.91\n",
      "The city is : rikitea, the lattitude is -23.12, the temperature is 20.4, the cloudiness is 84, the humidity is 73, the windspeed is 7.33\n",
      "The city is : san quintin, the lattitude is 17.54, the temperature is 23.6, the cloudiness is 100, the humidity is 92, the windspeed is 1.08\n",
      "The city is : port blair, the lattitude is 11.67, the temperature is 28.2, the cloudiness is 100, the humidity is 80, the windspeed is 11.05\n",
      "The city is : tuktoyaktuk, the lattitude is 69.44, the temperature is 13, the cloudiness is 75, the humidity is 62, the windspeed is 1.5\n",
      "The city is : tutoia, the lattitude is -2.76, the temperature is 29, the cloudiness is 40, the humidity is 74, the windspeed is 7.7\n",
      "The city is : saskylakh, the lattitude is 71.97, the temperature is 13.2, the cloudiness is 0, the humidity is 61, the windspeed is 0.82\n",
      "City not found... skipping.\n",
      "The city is : lac du bonnet, the lattitude is 50.25, the temperature is 32.78, the cloudiness is 0, the humidity is 31, the windspeed is 0.89\n",
      "The city is : hilo, the lattitude is 19.71, the temperature is 28, the cloudiness is 90, the humidity is 74, the windspeed is 6.66\n",
      "The city is : cape town, the lattitude is -33.93, the temperature is 13.89, the cloudiness is 0, the humidity is 93, the windspeed is 1.5\n",
      "The city is : hay river, the lattitude is 60.82, the temperature is 19, the cloudiness is 40, the humidity is 68, the windspeed is 2.1\n",
      "The city is : kangaatsiaq, the lattitude is 68.31, the temperature is 7.4, the cloudiness is 60, the humidity is 85, the windspeed is 3.61\n",
      "The city is : yellowknife, the lattitude is 62.45, the temperature is 15, the cloudiness is 90, the humidity is 93, the windspeed is 2.1\n",
      "The city is : qaanaaq, the lattitude is 77.48, the temperature is 6.3, the cloudiness is 0, the humidity is 73, the windspeed is 2.47\n",
      "City not found... skipping.\n",
      "City not found... skipping.\n",
      "The city is : thompson, the lattitude is 55.74, the temperature is 24, the cloudiness is 40, the humidity is 44, the windspeed is 3.1\n",
      "The city is : punta arenas, the lattitude is -53.16, the temperature is 5, the cloudiness is 75, the humidity is 84, the windspeed is 4.6\n",
      "The city is : haines junction, the lattitude is 60.75, the temperature is 16.8, the cloudiness is 100, the humidity is 46, the windspeed is 2.96\n",
      "City not found... skipping.\n",
      "The city is : rapid valley, the lattitude is 44.06, the temperature is 27.22, the cloudiness is 40, the humidity is 78, the windspeed is 1.5\n",
      "The city is : quibdo, the lattitude is 5.69, the temperature is 29, the cloudiness is 75, the humidity is 79, the windspeed is 3.1\n",
      "The city is : pevek, the lattitude is 69.7, the temperature is -1.01, the cloudiness is 100, the humidity is 92, the windspeed is 4.79\n",
      "The city is : memaliaj, the lattitude is 40.35, the temperature is 23.33, the cloudiness is 0, the humidity is 47, the windspeed is 1.04\n",
      "The city is : lebu, the lattitude is 8.96, the temperature is 15, the cloudiness is 75, the humidity is 87, the windspeed is 2.6\n",
      "The city is : bambous virieux, the lattitude is -20.34, the temperature is 22, the cloudiness is 20, the humidity is 73, the windspeed is 4.1\n",
      "The city is : bluff, the lattitude is -23.58, the temperature is 12.4, the cloudiness is 50, the humidity is 84, the windspeed is 3.31\n",
      "The city is : san policarpo, the lattitude is 12.18, the temperature is 25.1, the cloudiness is 100, the humidity is 84, the windspeed is 5.88\n",
      "The city is : lasa, the lattitude is 34.92, the temperature is 26, the cloudiness is 0, the humidity is 88, the windspeed is 7.7\n",
      "The city is : plettenberg bay, the lattitude is -34.05, the temperature is 11.8, the cloudiness is 34, the humidity is 89, the windspeed is 2.5\n",
      "The city is : waipawa, the lattitude is -39.94, the temperature is 3.33, the cloudiness is 59, the humidity is 92, the windspeed is 3.06\n",
      "The city is : matara, the lattitude is -3.48, the temperature is 12.5, the cloudiness is 75, the humidity is 87, the windspeed is 0.52\n",
      "The city is : yaring, the lattitude is 6.87, the temperature is 27.8, the cloudiness is 100, the humidity is 72, the windspeed is 4.44\n",
      "The city is : carnarvon, the lattitude is -30.97, the temperature is 8.3, the cloudiness is 0, the humidity is 49, the windspeed is 4.85\n",
      "The city is : rawson, the lattitude is -43.3, the temperature is 10.8, the cloudiness is 0, the humidity is 45, the windspeed is 5.05\n",
      "The city is : new norfolk, the lattitude is -42.78, the temperature is 7.22, the cloudiness is 100, the humidity is 92, the windspeed is 0.89\n",
      "The city is : port alfred, the lattitude is -33.59, the temperature is 16.67, the cloudiness is 45, the humidity is 84, the windspeed is 2.24\n",
      "The city is : iqaluit, the lattitude is 63.75, the temperature is 9, the cloudiness is 90, the humidity is 87, the windspeed is 2.1\n",
      "The city is : murmashi, the lattitude is 68.82, the temperature is 6, the cloudiness is 75, the humidity is 81, the windspeed is 4\n",
      "The city is : lima, the lattitude is -12.06, the temperature is 17, the cloudiness is 75, the humidity is 77, the windspeed is 3.6\n",
      "The city is : acapulco, the lattitude is 16.86, the temperature is 33, the cloudiness is 20, the humidity is 63, the windspeed is 2.6\n",
      "City not found... skipping.\n",
      "The city is : havre-saint-pierre, the lattitude is 50.23, the temperature is 19, the cloudiness is 40, the humidity is 63, the windspeed is 9.8\n",
      "The city is : milkovo, the lattitude is 41.53, the temperature is 27.78, the cloudiness is 0, the humidity is 51, the windspeed is 4.1\n",
      "The city is : vestmanna, the lattitude is 62.16, the temperature is 13, the cloudiness is 100, the humidity is 87, the windspeed is 2.1\n",
      "The city is : narsaq, the lattitude is 60.91, the temperature is 21, the cloudiness is 40, the humidity is 26, the windspeed is 9.3\n",
      "The city is : itarema, the lattitude is -2.92, the temperature is 26.3, the cloudiness is 73, the humidity is 66, the windspeed is 6.4\n",
      "The city is : luderitz, the lattitude is -26.65, the temperature is 12, the cloudiness is 0, the humidity is 93, the windspeed is 1\n",
      "The city is : clyde river, the lattitude is 70.47, the temperature is 11, the cloudiness is 90, the humidity is 81, the windspeed is 7.2\n",
      "The city is : alice springs, the lattitude is -23.7, the temperature is 3, the cloudiness is 0, the humidity is 59, the windspeed is 3.1\n",
      "City not found... skipping.\n",
      "The city is : conde, the lattitude is -11.81, the temperature is 19.9, the cloudiness is 0, the humidity is 82, the windspeed is 1.68\n",
      "The city is : sokol, the lattitude is 59.46, the temperature is 8.4, the cloudiness is 94, the humidity is 95, the windspeed is 2.6\n",
      "The city is : namibe, the lattitude is -15.19, the temperature is 17.4, the cloudiness is 91, the humidity is 82, the windspeed is 7.39\n",
      "The city is : birjand, the lattitude is 32.86, the temperature is 28, the cloudiness is 0, the humidity is 14, the windspeed is 4.1\n",
      "The city is : honiara, the lattitude is -9.43, the temperature is 22, the cloudiness is 40, the humidity is 100, the windspeed is 1\n",
      "The city is : jamestown, the lattitude is -33.21, the temperature is 5.2, the cloudiness is 0, the humidity is 89, the windspeed is 1.83\n",
      "The city is : mataura, the lattitude is -46.19, the temperature is 4.44, the cloudiness is 91, the humidity is 88, the windspeed is 2.68\n"
     ]
    },
    {
     "name": "stdout",
     "output_type": "stream",
     "text": [
      "The city is : caledon, the lattitude is 43.88, the temperature is 29.44, the cloudiness is 20, the humidity is 34, the windspeed is 6.7\n",
      "City not found... skipping.\n",
      "The city is : mahebourg, the lattitude is -20.41, the temperature is 22, the cloudiness is 20, the humidity is 73, the windspeed is 4.1\n",
      "The city is : mao, the lattitude is 19.55, the temperature is 34.44, the cloudiness is 40, the humidity is 49, the windspeed is 7.2\n",
      "The city is : flin flon, the lattitude is 54.77, the temperature is 24, the cloudiness is 75, the humidity is 57, the windspeed is 3.6\n",
      "City not found... skipping.\n",
      "The city is : lavrentiya, the lattitude is 65.58, the temperature is 6.6, the cloudiness is 100, the humidity is 95, the windspeed is 7.11\n",
      "The city is : kruisfontein, the lattitude is -34, the temperature is 13.3, the cloudiness is 57, the humidity is 86, the windspeed is 7.29\n",
      "The city is : avera, the lattitude is 33.19, the temperature is 34, the cloudiness is 75, the humidity is 46, the windspeed is 5.1\n",
      "The city is : geraldton, the lattitude is 49.72, the temperature is 26, the cloudiness is 40, the humidity is 65, the windspeed is 3.6\n",
      "The city is : avarua, the lattitude is -21.21, the temperature is 23, the cloudiness is 0, the humidity is 94, the windspeed is 0.5\n",
      "The city is : saint-augustin, the lattitude is 45.63, the temperature is 29.44, the cloudiness is 20, the humidity is 32, the windspeed is 3.6\n",
      "City not found... skipping.\n",
      "The city is : bredasdorp, the lattitude is -34.53, the temperature is 12, the cloudiness is 0, the humidity is 87, the windspeed is 1.5\n",
      "The city is : bisert, the lattitude is 56.85, the temperature is 9.5, the cloudiness is 100, the humidity is 99, the windspeed is 3.46\n",
      "The city is : grand gaube, the lattitude is -20.01, the temperature is 22, the cloudiness is 20, the humidity is 73, the windspeed is 4.1\n",
      "City not found... skipping.\n",
      "The city is : puerto escondido, the lattitude is 15.86, the temperature is 31, the cloudiness is 75, the humidity is 62, the windspeed is 5.1\n",
      "The city is : saint-philippe, the lattitude is 45.36, the temperature is 30, the cloudiness is 40, the humidity is 32, the windspeed is 6.2\n",
      "The city is : mount gambier, the lattitude is -37.83, the temperature is 9, the cloudiness is 90, the humidity is 93, the windspeed is 2.6\n",
      "The city is : camargo, the lattitude is 27.69, the temperature is 33.8, the cloudiness is 52, the humidity is 18, the windspeed is 2.74\n",
      "The city is : te anau, the lattitude is -45.41, the temperature is 5.7, the cloudiness is 100, the humidity is 85, the windspeed is 4.58\n",
      "The city is : east london, the lattitude is -33.02, the temperature is 16, the cloudiness is 75, the humidity is 87, the windspeed is 8.2\n",
      "The city is : karaman, the lattitude is 37.18, the temperature is 20.9, the cloudiness is 0, the humidity is 42, the windspeed is 1.96\n",
      "The city is : cherskiy, the lattitude is 68.75, the temperature is 5.1, the cloudiness is 12, the humidity is 67, the windspeed is 6.63\n",
      "The city is : loandjili, the lattitude is -4.77, the temperature is 22, the cloudiness is 90, the humidity is 88, the windspeed is 1.5\n",
      "The city is : shetpe, the lattitude is 44.14, the temperature is 22.2, the cloudiness is 86, the humidity is 44, the windspeed is 2.17\n",
      "City not found... skipping.\n",
      "The city is : tocopilla, the lattitude is -22.09, the temperature is 13.9, the cloudiness is 69, the humidity is 85, the windspeed is 4.41\n",
      "The city is : biak, the lattitude is -0.91, the temperature is 14.6, the cloudiness is 100, the humidity is 97, the windspeed is 2.65\n",
      "The city is : devli, the lattitude is 28.23, the temperature is 31.11, the cloudiness is 40, the humidity is 83, the windspeed is 2.77\n",
      "The city is : gorontalo, the lattitude is 0.54, the temperature is 22.2, the cloudiness is 100, the humidity is 82, the windspeed is 2.63\n",
      "The city is : lorengau, the lattitude is -2.02, the temperature is 26.6, the cloudiness is 100, the humidity is 82, the windspeed is 4.24\n",
      "The city is : mangrol, the lattitude is 25.33, the temperature is 28.1, the cloudiness is 78, the humidity is 78, the windspeed is 3.33\n",
      "The city is : saint george, the lattitude is 39.45, the temperature is 30, the cloudiness is 0, the humidity is 61, the windspeed is 2.6\n",
      "The city is : thunder bay, the lattitude is 48.41, the temperature is 27.78, the cloudiness is 75, the humidity is 65, the windspeed is 2.1\n",
      "The city is : katakwi, the lattitude is 1.91, the temperature is 19.6, the cloudiness is 1, the humidity is 83, the windspeed is 1.3\n",
      "The city is : piacabucu, the lattitude is -10.41, the temperature is 22.8, the cloudiness is 31, the humidity is 77, the windspeed is 2.84\n",
      "The city is : jena, the lattitude is 50.93, the temperature is 20, the cloudiness is 0, the humidity is 77, the windspeed is 3.1\n",
      "The city is : el cope, the lattitude is 8.69, the temperature is 27, the cloudiness is 40, the humidity is 94, the windspeed is 5.1\n",
      "City not found... skipping.\n",
      "The city is : angoche, the lattitude is -16.23, the temperature is 21.9, the cloudiness is 0, the humidity is 94, the windspeed is 1.29\n",
      "The city is : bonavista, the lattitude is 48.65, the temperature is 16.2, the cloudiness is 3, the humidity is 93, the windspeed is 4.14\n",
      "City not found... skipping.\n",
      "The city is : sorong, the lattitude is -0.86, the temperature is 23.3, the cloudiness is 82, the humidity is 89, the windspeed is 4.21\n",
      "The city is : tuatapere, the lattitude is -46.13, the temperature is 4.44, the cloudiness is 100, the humidity is 88, the windspeed is 2.68\n",
      "The city is : hailar, the lattitude is 49.2, the temperature is 18, the cloudiness is 96, the humidity is 80, the windspeed is 2.59\n",
      "The city is : grindavik, the lattitude is 63.84, the temperature is 16.11, the cloudiness is 0, the humidity is 82, the windspeed is 2.6\n",
      "The city is : marawi, the lattitude is 8, the temperature is 25.56, the cloudiness is 100, the humidity is 74, the windspeed is 2.24\n",
      "The city is : kolpny, the lattitude is 52.23, the temperature is 9.9, the cloudiness is 72, the humidity is 97, the windspeed is 3.3\n",
      "The city is : oxford, the lattitude is 33.61, the temperature is 32.22, the cloudiness is 20, the humidity is 55, the windspeed is 3.6\n",
      "The city is : arraial do cabo, the lattitude is -22.97, the temperature is 28, the cloudiness is 0, the humidity is 65, the windspeed is 5.1\n",
      "The city is : buala, the lattitude is -8.15, the temperature is 26.1, the cloudiness is 100, the humidity is 84, the windspeed is 5.03\n",
      "The city is : mar del plata, the lattitude is -46.43, the temperature is 6.1, the cloudiness is 1, the humidity is 73, the windspeed is 1.95\n",
      "The city is : shadegan, the lattitude is 30.65, the temperature is 37, the cloudiness is 0, the humidity is 41, the windspeed is 4.1\n",
      "The city is : provideniya, the lattitude is 64.42, the temperature is 6.8, the cloudiness is 100, the humidity is 93, the windspeed is 4.39\n",
      "The city is : werda, the lattitude is -25.27, the temperature is 17, the cloudiness is 0, the humidity is 26, the windspeed is 5.53\n",
      "The city is : shelburne, the lattitude is 44.08, the temperature is 28.89, the cloudiness is 40, the humidity is 44, the windspeed is 3.6\n",
      "City not found... skipping.\n",
      "The city is : byron bay, the lattitude is -28.65, the temperature is 12, the cloudiness is 19, the humidity is 100, the windspeed is 1.5\n",
      "The city is : oussouye, the lattitude is 12.49, the temperature is 29, the cloudiness is 20, the humidity is 83, the windspeed is 3.1\n",
      "The city is : tual, the lattitude is -5.67, the temperature is 24.6, the cloudiness is 41, the humidity is 80, the windspeed is 8.97\n",
      "The city is : kavakli, the lattitude is 41.09, the temperature is 26.11, the cloudiness is 0, the humidity is 78, the windspeed is 3.6\n",
      "The city is : marand, the lattitude is 38.43, the temperature is 26, the cloudiness is 20, the humidity is 44, the windspeed is 4.1\n",
      "The city is : bima, the lattitude is -8.45, the temperature is 17.1, the cloudiness is 67, the humidity is 94, the windspeed is 0.83\n",
      "The city is : san fernando, the lattitude is 10.28, the temperature is 32, the cloudiness is 40, the humidity is 59, the windspeed is 6.2\n",
      "The city is : pangnirtung, the lattitude is 66.15, the temperature is 10, the cloudiness is 40, the humidity is 81, the windspeed is 6.2\n",
      "The city is : dikson, the lattitude is 73.51, the temperature is 3.8, the cloudiness is 100, the humidity is 91, the windspeed is 5.28\n"
     ]
    },
    {
     "name": "stdout",
     "output_type": "stream",
     "text": [
      "The city is : makakilo city, the lattitude is 21.35, the temperature is 31, the cloudiness is 1, the humidity is 58, the windspeed is 5.1\n",
      "The city is : sao jose da coroa grande, the lattitude is -8.9, the temperature is 21.8, the cloudiness is 99, the humidity is 91, the windspeed is 2.02\n",
      "The city is : yerbogachen, the lattitude is 61.28, the temperature is 12.3, the cloudiness is 87, the humidity is 97, the windspeed is 2.09\n",
      "The city is : ulkan, the lattitude is 57.24, the temperature is 12.7, the cloudiness is 0, the humidity is 93, the windspeed is 1.04\n",
      "The city is : mezhdurechensk, the lattitude is 53.69, the temperature is 16, the cloudiness is 0, the humidity is 93, the windspeed is 1.27\n",
      "The city is : khandbari, the lattitude is 27.38, the temperature is 14.7, the cloudiness is 100, the humidity is 88, the windspeed is 0.67\n",
      "The city is : vincennes, the lattitude is 48.85, the temperature is 25, the cloudiness is 0, the humidity is 50, the windspeed is 3.6\n",
      "The city is : zhangye, the lattitude is 38.94, the temperature is 22.3, the cloudiness is 89, the humidity is 27, the windspeed is 2.8\n",
      "The city is : asyut, the lattitude is 27.18, the temperature is 35, the cloudiness is 0, the humidity is 32, the windspeed is 5.1\n",
      "The city is : gat, the lattitude is 14.69, the temperature is 35, the cloudiness is 0, the humidity is 69, the windspeed is 4.6\n",
      "The city is : tiksi, the lattitude is 71.64, the temperature is 5.1, the cloudiness is 0, the humidity is 74, the windspeed is 1.78\n",
      "The city is : banyuwangi, the lattitude is -8.21, the temperature is 15.3, the cloudiness is 53, the humidity is 82, the windspeed is 1.64\n",
      "The city is : hervey bay, the lattitude is -25.3, the temperature is 12.78, the cloudiness is 0, the humidity is 87, the windspeed is 3.1\n",
      "The city is : north bend, the lattitude is 43.41, the temperature is 27.78, the cloudiness is 40, the humidity is 69, the windspeed is 6.2\n",
      "The city is : takoradi, the lattitude is 4.89, the temperature is 22.9, the cloudiness is 90, the humidity is 90, the windspeed is 3.09\n",
      "The city is : noumea, the lattitude is -22.28, the temperature is 12, the cloudiness is 0, the humidity is 87, the windspeed is 0.5\n",
      "The city is : kalmunai, the lattitude is 7.42, the temperature is 25.8, the cloudiness is 100, the humidity is 73, the windspeed is 0.69\n",
      "The city is : sao filipe, the lattitude is 14.9, the temperature is 23.5, the cloudiness is 0, the humidity is 85, the windspeed is 7.93\n",
      "The city is : fare, the lattitude is -16.7, the temperature is 26, the cloudiness is 1, the humidity is 83, the windspeed is 6.62\n",
      "City not found... skipping.\n",
      "The city is : mandalgovi, the lattitude is 45.76, the temperature is 20.3, the cloudiness is 0, the humidity is 31, the windspeed is 4.3\n",
      "The city is : mayo, the lattitude is 63.59, the temperature is 18, the cloudiness is 90, the humidity is 48, the windspeed is 3.6\n",
      "The city is : chuy, the lattitude is -33.69, the temperature is 11, the cloudiness is 65, the humidity is 67, the windspeed is 7.51\n",
      "The city is : ayan, the lattitude is 38.23, the temperature is 15.9, the cloudiness is 12, the humidity is 52, the windspeed is 1.89\n",
      "The city is : muros, the lattitude is 42.77, the temperature is 23.89, the cloudiness is 0, the humidity is 73, the windspeed is 4.1\n",
      "The city is : richards bay, the lattitude is -28.77, the temperature is 21.7, the cloudiness is 0, the humidity is 74, the windspeed is 11.39\n",
      "The city is : lata, the lattitude is 30.78, the temperature is 7.9, the cloudiness is 100, the humidity is 86, the windspeed is 1.01\n",
      "The city is : chavakkad, the lattitude is 10.53, the temperature is 28, the cloudiness is 40, the humidity is 88, the windspeed is 2.2\n",
      "The city is : jatai, the lattitude is 28.97, the temperature is 29.8, the cloudiness is 61, the humidity is 69, the windspeed is 2.36\n",
      "The city is : kijang, the lattitude is 35.24, the temperature is 25, the cloudiness is 0, the humidity is 83, the windspeed is 1.5\n",
      "The city is : san cristobal, the lattitude is 14.68, the temperature is 29.3, the cloudiness is 91, the humidity is 51, the windspeed is 2.74\n",
      "The city is : leningradskiy, the lattitude is 69.38, the temperature is 0.4, the cloudiness is 100, the humidity is 85, the windspeed is 5.61\n",
      "The city is : reconquista, the lattitude is -29.14, the temperature is 13.4, the cloudiness is 0, the humidity is 54, the windspeed is 2.24\n",
      "The city is : otukpo, the lattitude is 7.19, the temperature is 22.4, the cloudiness is 100, the humidity is 98, the windspeed is 2.72\n",
      "The city is : salta, the lattitude is -24.79, the temperature is 18, the cloudiness is 0, the humidity is 21, the windspeed is 1.5\n",
      "City not found... skipping.\n",
      "The city is : esso, the lattitude is 55.93, the temperature is 10.9, the cloudiness is 100, the humidity is 95, the windspeed is 1.12\n",
      "The city is : davila, the lattitude is 18.47, the temperature is 25, the cloudiness is 75, the humidity is 94, the windspeed is 2.1\n",
      "The city is : montecristo, the lattitude is 8.3, the temperature is 32.2, the cloudiness is 100, the humidity is 58, the windspeed is 1.05\n",
      "The city is : chiredzi, the lattitude is -21.05, the temperature is 16.7, the cloudiness is 0, the humidity is 85, the windspeed is 1.64\n",
      "The city is : russell, the lattitude is 38.9, the temperature is 27.78, the cloudiness is 90, the humidity is 61, the windspeed is 6.2\n",
      "The city is : yumen, the lattitude is 40.29, the temperature is 24.2, the cloudiness is 14, the humidity is 22, the windspeed is 1.7\n",
      "The city is : maiduguri, the lattitude is 11.84, the temperature is 27.8, the cloudiness is 74, the humidity is 57, the windspeed is 1.37\n",
      "The city is : monrovia, the lattitude is 6.33, the temperature is 25, the cloudiness is 75, the humidity is 94, the windspeed is 3.6\n",
      "The city is : nuuk, the lattitude is 64.17, the temperature is 14, the cloudiness is 40, the humidity is 58, the windspeed is 3.1\n",
      "The city is : egvekinot, the lattitude is 66.32, the temperature is 3.2, the cloudiness is 100, the humidity is 81, the windspeed is 6.95\n",
      "The city is : porto murtinho, the lattitude is -21.7, the temperature is 13.9, the cloudiness is 95, the humidity is 44, the windspeed is 5.67\n",
      "The city is : sandila, the lattitude is 27.06, the temperature is 29, the cloudiness is 40, the humidity is 89, the windspeed is 1\n",
      "The city is : meulaboh, the lattitude is 4.14, the temperature is 27.2, the cloudiness is 100, the humidity is 80, the windspeed is 3.9\n",
      "The city is : ambilobe, the lattitude is -13.19, the temperature is 22.5, the cloudiness is 0, the humidity is 67, the windspeed is 5.47\n",
      "The city is : hithadhoo, the lattitude is -0.6, the temperature is 28.8, the cloudiness is 48, the humidity is 78, the windspeed is 6.21\n",
      "The city is : ha giang, the lattitude is 22.83, the temperature is 18.4, the cloudiness is 100, the humidity is 96, the windspeed is 1.95\n",
      "The city is : hemnesberget, the lattitude is 66.23, the temperature is 15, the cloudiness is 0, the humidity is 67, the windspeed is 2.1\n",
      "The city is : kavieng, the lattitude is -2.57, the temperature is 28.6, the cloudiness is 96, the humidity is 75, the windspeed is 5.53\n",
      "The city is : hambantota, the lattitude is 6.12, the temperature is 27, the cloudiness is 20, the humidity is 100, the windspeed is 3.1\n",
      "The city is : megion, the lattitude is 61.04, the temperature is 19, the cloudiness is 40, the humidity is 93, the windspeed is 3\n",
      "City not found... skipping.\n",
      "The city is : soyo, the lattitude is -6.13, the temperature is 21.5, the cloudiness is 11, the humidity is 80, the windspeed is 4.67\n",
      "The city is : marsa matruh, the lattitude is 31.35, the temperature is 27, the cloudiness is 40, the humidity is 88, the windspeed is 5.1\n",
      "The city is : vila franca do campo, the lattitude is 37.72, the temperature is 21, the cloudiness is 20, the humidity is 88, the windspeed is 5.1\n",
      "The city is : samdrup jongkhar, the lattitude is 26.8, the temperature is 19.1, the cloudiness is 74, the humidity is 96, the windspeed is 1.32\n",
      "City not found... skipping.\n",
      "The city is : broome, the lattitude is 52.47, the temperature is 20, the cloudiness is 0, the humidity is 68, the windspeed is 4.1\n",
      "The city is : muhos, the lattitude is 64.81, the temperature is 11, the cloudiness is 40, the humidity is 57, the windspeed is 2.1\n"
     ]
    },
    {
     "name": "stdout",
     "output_type": "stream",
     "text": [
      "The city is : samarai, the lattitude is -10.62, the temperature is 22.6, the cloudiness is 100, the humidity is 95, the windspeed is 4.35\n",
      "The city is : saldanha, the lattitude is 41.42, the temperature is 24.4, the cloudiness is 0, the humidity is 38, the windspeed is 4.13\n",
      "The city is : lumphat, the lattitude is 13.5, the temperature is 23, the cloudiness is 100, the humidity is 98, the windspeed is 2.77\n",
      "City not found... skipping.\n",
      "The city is : sobolevo, the lattitude is 54.43, the temperature is 10.7, the cloudiness is 37, the humidity is 91, the windspeed is 2.34\n",
      "The city is : tura, the lattitude is 64.27, the temperature is 8.4, the cloudiness is 0, the humidity is 87, the windspeed is 2.17\n",
      "The city is : tervel, the lattitude is 43.43, the temperature is 21.5, the cloudiness is 57, the humidity is 69, the windspeed is 1.7\n",
      "The city is : japura, the lattitude is -0.42, the temperature is 22, the cloudiness is 17, the humidity is 83, the windspeed is 1.43\n",
      "The city is : maniitsoq, the lattitude is 65.42, the temperature is 7.8, the cloudiness is 31, the humidity is 81, the windspeed is 3.32\n",
      "The city is : ahipara, the lattitude is -35.17, the temperature is 8.89, the cloudiness is 80, the humidity is 100, the windspeed is 12.19\n",
      "The city is : banda aceh, the lattitude is 5.56, the temperature is 28.3, the cloudiness is 100, the humidity is 79, the windspeed is 8.11\n",
      "The city is : dovolnoye, the lattitude is 54.5, the temperature is 14.8, the cloudiness is 100, the humidity is 80, the windspeed is 3.92\n",
      "The city is : akonolinga, the lattitude is 3.77, the temperature is 19.2, the cloudiness is 61, the humidity is 99, the windspeed is 1.06\n",
      "The city is : bubaque, the lattitude is 11.28, the temperature is 26.5, the cloudiness is 100, the humidity is 86, the windspeed is 4.86\n",
      "The city is : mount isa, the lattitude is -20.73, the temperature is 14, the cloudiness is 0, the humidity is 44, the windspeed is 3.1\n",
      "City not found... skipping.\n",
      "The city is : huoqiu, the lattitude is 32.34, the temperature is 26, the cloudiness is 100, the humidity is 87, the windspeed is 2.37\n",
      "The city is : ilulissat, the lattitude is 69.22, the temperature is 7, the cloudiness is 75, the humidity is 81, the windspeed is 2.1\n",
      "City not found... skipping.\n",
      "The city is : tautira, the lattitude is -17.73, the temperature is 27, the cloudiness is 75, the humidity is 74, the windspeed is 7.2\n",
      "The city is : adamovka, the lattitude is 51.52, the temperature is 12.7, the cloudiness is 35, the humidity is 81, the windspeed is 5.36\n",
      "The city is : lakes entrance, the lattitude is -37.88, the temperature is 2.78, the cloudiness is 38, the humidity is 94, the windspeed is 0.45\n",
      "The city is : praia, the lattitude is -20.25, the temperature is 30, the cloudiness is 20, the humidity is 20, the windspeed is 3.6\n",
      "City not found... skipping.\n",
      "The city is : terrace, the lattitude is 54.52, the temperature is 23.33, the cloudiness is 75, the humidity is 55, the windspeed is 1.5\n",
      "The city is : qesarya, the lattitude is 32.52, the temperature is 27.78, the cloudiness is 20, the humidity is 74, the windspeed is 2.6\n",
      "The city is : vostok, the lattitude is 46.45, the temperature is 17.6, the cloudiness is 23, the humidity is 95, the windspeed is 1.4\n",
      "The city is : orange, the lattitude is 33.79, the temperature is 35.56, the cloudiness is 20, the humidity is 50, the windspeed is 3.1\n",
      "City not found... skipping.\n",
      "The city is : isangel, the lattitude is -19.55, the temperature is 16, the cloudiness is 20, the humidity is 93, the windspeed is 8.97\n",
      "The city is : abu samrah, the lattitude is 35.3, the temperature is 21.8, the cloudiness is 0, the humidity is 82, the windspeed is 5.35\n",
      "The city is : acajutla, the lattitude is 13.59, the temperature is 28.5, the cloudiness is 74, the humidity is 69, the windspeed is 2.57\n",
      "The city is : vardo, the lattitude is 39.62, the temperature is 31.11, the cloudiness is 20, the humidity is 45, the windspeed is 6.2\n",
      "The city is : cilaos, the lattitude is -21.13, the temperature is 21, the cloudiness is 0, the humidity is 68, the windspeed is 4.1\n",
      "The city is : santo amaro da imperatriz, the lattitude is -27.69, the temperature is 16.67, the cloudiness is 75, the humidity is 87, the windspeed is 2.1\n",
      "The city is : barrow, the lattitude is -38.31, the temperature is 8.8, the cloudiness is 35, the humidity is 50, the windspeed is 4.86\n",
      "The city is : khvorostyanka, the lattitude is 52.62, the temperature is 10.2, the cloudiness is 14, the humidity is 84, the windspeed is 4.23\n",
      "City not found... skipping.\n",
      "The city is : pyaozerskiy, the lattitude is 65.83, the temperature is 7.6, the cloudiness is 85, the humidity is 83, the windspeed is 5.46\n",
      "The city is : pisco, the lattitude is -13.71, the temperature is 22, the cloudiness is 90, the humidity is 30, the windspeed is 3.1\n",
      "The city is : cody, the lattitude is 44.53, the temperature is 31.11, the cloudiness is 1, the humidity is 19, the windspeed is 2.1\n",
      "The city is : vila velha, the lattitude is -3.71, the temperature is 30, the cloudiness is 20, the humidity is 62, the windspeed is 9.3\n",
      "The city is : kitgum, the lattitude is 3.3, the temperature is 19.5, the cloudiness is 81, the humidity is 89, the windspeed is 1\n",
      "The city is : kenora, the lattitude is 49.76, the temperature is 29, the cloudiness is 20, the humidity is 45, the windspeed is 1\n",
      "The city is : gazanjyk, the lattitude is 39.24, the temperature is 32.3, the cloudiness is 42, the humidity is 15, the windspeed is 6.87\n",
      "The city is : roebourne, the lattitude is -20.77, the temperature is 18.2, the cloudiness is 100, the humidity is 28, the windspeed is 6.3\n",
      "The city is : cabo san lucas, the lattitude is 22.89, the temperature is 36.67, the cloudiness is 40, the humidity is 34, the windspeed is 7.7\n",
      "The city is : nikolskoye, the lattitude is 59.7, the temperature is 13.33, the cloudiness is 90, the humidity is 93, the windspeed is 1\n",
      "The city is : fairbanks, the lattitude is 64.84, the temperature is 11.67, the cloudiness is 90, the humidity is 93, the windspeed is 4.6\n",
      "The city is : sept-iles, the lattitude is 50.2, the temperature is 22.78, the cloudiness is 75, the humidity is 60, the windspeed is 3.6\n",
      "The city is : seoul, the lattitude is 37.57, the temperature is 26, the cloudiness is 1, the humidity is 100, the windspeed is 0.5\n",
      "The city is : slonim, the lattitude is 53.09, the temperature is 11.6, the cloudiness is 25, the humidity is 89, the windspeed is 2.79\n",
      "City not found... skipping.\n",
      "The city is : naze, the lattitude is 5.43, the temperature is 22.4, the cloudiness is 100, the humidity is 99, the windspeed is 0.66\n",
      "The city is : lufilufi, the lattitude is -13.87, the temperature is 25, the cloudiness is 20, the humidity is 83, the windspeed is 2.6\n",
      "The city is : hamminkeln, the lattitude is 51.73, the temperature is 20.56, the cloudiness is 75, the humidity is 93, the windspeed is 4.6\n",
      "The city is : katsuura, the lattitude is 33.93, the temperature is 27, the cloudiness is 40, the humidity is 94, the windspeed is 2.6\n",
      "The city is : leshukonskoye, the lattitude is 64.9, the temperature is 5.1, the cloudiness is 100, the humidity is 96, the windspeed is 4.86\n",
      "The city is : pocao de pedras, the lattitude is -4.67, the temperature is 27.8, the cloudiness is 49, the humidity is 56, the windspeed is 0.26\n",
      "The city is : comodoro rivadavia, the lattitude is -45.87, the temperature is 8, the cloudiness is 20, the humidity is 75, the windspeed is 2.6\n",
      "The city is : san blas, the lattitude is 21.54, the temperature is 30, the cloudiness is 75, the humidity is 51, the windspeed is 5.37\n",
      "The city is : banjar, the lattitude is -7.37, the temperature is 20.6, the cloudiness is 84, the humidity is 94, the windspeed is 0.3\n",
      "City not found... skipping.\n",
      "City not found... skipping.\n",
      "City not found... skipping.\n",
      "The city is : montepuez, the lattitude is -13.13, the temperature is 21.2, the cloudiness is 0, the humidity is 72, the windspeed is 1.6\n",
      "The city is : coihaique, the lattitude is -45.58, the temperature is 9, the cloudiness is 75, the humidity is 75, the windspeed is 2.1\n",
      "The city is : kaeo, the lattitude is -35.1, the temperature is 9.44, the cloudiness is 36, the humidity is 100, the windspeed is 5.91\n",
      "The city is : kantang, the lattitude is 7.42, the temperature is 25, the cloudiness is 20, the humidity is 100, the windspeed is 0.36\n",
      "The city is : santa cruz, the lattitude is -6.22, the temperature is 23.6, the cloudiness is 42, the humidity is 69, the windspeed is 4.32\n"
     ]
    },
    {
     "name": "stdout",
     "output_type": "stream",
     "text": [
      "The city is : mongo, the lattitude is -5.62, the temperature is 22.1, the cloudiness is 0, the humidity is 63, the windspeed is 4.27\n",
      "City not found... skipping.\n",
      "The city is : akita, the lattitude is 39.72, the temperature is 24, the cloudiness is 18, the humidity is 92, the windspeed is 1.72\n",
      "The city is : ballina, the lattitude is 54.11, the temperature is 22, the cloudiness is 75, the humidity is 68, the windspeed is 2.1\n",
      "The city is : sechura, the lattitude is -5.56, the temperature is 17.1, the cloudiness is 44, the humidity is 89, the windspeed is 8.78\n",
      "The city is : chabahar, the lattitude is 25.29, the temperature is 30, the cloudiness is 5, the humidity is 79, the windspeed is 3.1\n",
      "The city is : tasiilaq, the lattitude is 65.61, the temperature is 9, the cloudiness is 20, the humidity is 70, the windspeed is 5.7\n",
      "The city is : qaqortoq, the lattitude is 60.72, the temperature is 21, the cloudiness is 40, the humidity is 26, the windspeed is 9.3\n",
      "The city is : yamada, the lattitude is 36.58, the temperature is 27.78, the cloudiness is 40, the humidity is 83, the windspeed is 1\n",
      "The city is : kaina, the lattitude is 12.64, the temperature is 25.6, the cloudiness is 100, the humidity is 63, the windspeed is 3.26\n",
      "The city is : paita, the lattitude is -5.09, the temperature is 17, the cloudiness is 0, the humidity is 290, the windspeed is 7.2\n",
      "The city is : shubarkuduk, the lattitude is 49.15, the temperature is 16.3, the cloudiness is 49, the humidity is 56, the windspeed is 2.88\n",
      "City not found... skipping.\n",
      "The city is : beidao, the lattitude is 34.57, the temperature is 13.1, the cloudiness is 0, the humidity is 91, the windspeed is 1.69\n",
      "The city is : codrington, the lattitude is -28.95, the temperature is 10.56, the cloudiness is 90, the humidity is 100, the windspeed is 1.5\n",
      "City not found... skipping.\n",
      "The city is : mitsamiouli, the lattitude is -11.38, the temperature is 24, the cloudiness is 20, the humidity is 78, the windspeed is 2.6\n",
      "The city is : garowe, the lattitude is 8.41, the temperature is 28.7, the cloudiness is 100, the humidity is 36, the windspeed is 11.11\n",
      "The city is : mongar, the lattitude is 27.28, the temperature is 9.9, the cloudiness is 95, the humidity is 96, the windspeed is 1.49\n",
      "The city is : lodja, the lattitude is -3.52, the temperature is 24, the cloudiness is 32, the humidity is 66, the windspeed is 1.5\n",
      "The city is : mildura, the lattitude is -34.18, the temperature is 9, the cloudiness is 90, the humidity is 76, the windspeed is 2.1\n",
      "The city is : ganzhou, the lattitude is 25.86, the temperature is 22.4, the cloudiness is 100, the humidity is 88, the windspeed is 0.76\n",
      "City not found... skipping.\n",
      "The city is : anshun, the lattitude is 26.25, the temperature is 17.5, the cloudiness is 98, the humidity is 94, the windspeed is 0.63\n",
      "The city is : muravlenko, the lattitude is 63.79, the temperature is 18.2, the cloudiness is 57, the humidity is 86, the windspeed is 4.64\n",
      "The city is : manggar, the lattitude is -2.88, the temperature is 24, the cloudiness is 16, the humidity is 84, the windspeed is 1.98\n",
      "The city is : coihueco, the lattitude is -36.63, the temperature is 13, the cloudiness is 0, the humidity is 50, the windspeed is 7.7\n",
      "The city is : qasigiannguit, the lattitude is 68.82, the temperature is 7, the cloudiness is 75, the humidity is 81, the windspeed is 2.1\n",
      "The city is : illkirch-graffenstaden, the lattitude is 48.53, the temperature is 23, the cloudiness is 0, the humidity is 49, the windspeed is 3.1\n",
      "The city is : tanete, the lattitude is -3.94, the temperature is 24.8, the cloudiness is 3, the humidity is 76, the windspeed is 9.86\n",
      "The city is : jumla, the lattitude is 29.28, the temperature is 13.1, the cloudiness is 100, the humidity is 99, the windspeed is 1.25\n",
      "The city is : verkhnevilyuysk, the lattitude is 63.45, the temperature is 13.2, the cloudiness is 100, the humidity is 99, the windspeed is 2.91\n",
      "The city is : champerico, the lattitude is 16.38, the temperature is 32, the cloudiness is 40, the humidity is 49, the windspeed is 4.1\n",
      "The city is : puerto madryn, the lattitude is -42.77, the temperature is 12.8, the cloudiness is 67, the humidity is 39, the windspeed is 11.28\n",
      "The city is : adeje, the lattitude is 5.68, the temperature is 23.7, the cloudiness is 100, the humidity is 91, the windspeed is 3.99\n",
      "The city is : skjervoy, the lattitude is 70.03, the temperature is 11, the cloudiness is 0, the humidity is 76, the windspeed is 4.1\n",
      "City not found... skipping.\n",
      "The city is : rodnykove, the lattitude is 47.68, the temperature is 15.6, the cloudiness is 20, the humidity is 68, the windspeed is 1.86\n",
      "The city is : imeni poliny osipenko, the lattitude is 52.42, the temperature is 13, the cloudiness is 47, the humidity is 97, the windspeed is 0.89\n",
      "City not found... skipping.\n",
      "The city is : jati, the lattitude is 24.35, the temperature is 29.1, the cloudiness is 100, the humidity is 74, the windspeed is 7.45\n",
      "The city is : harbour breton, the lattitude is 47.48, the temperature is 16.8, the cloudiness is 0, the humidity is 81, the windspeed is 8.96\n",
      "The city is : likasi, the lattitude is -10.99, the temperature is 15.3, the cloudiness is 78, the humidity is 61, the windspeed is 0.8\n",
      "The city is : berlevag, the lattitude is 70.86, the temperature is 5, the cloudiness is 75, the humidity is 93, the windspeed is 4.6\n",
      "The city is : ivdel, the lattitude is 60.7, the temperature is 10.3, the cloudiness is 100, the humidity is 97, the windspeed is 0.9\n",
      "The city is : grove city, the lattitude is 39.88, the temperature is 30.56, the cloudiness is 90, the humidity is 42, the windspeed is 3.6\n",
      "The city is : pijijiapan, the lattitude is 15.69, the temperature is 30.1, the cloudiness is 0, the humidity is 68, the windspeed is 3.38\n",
      "The city is : yulin, the lattitude is 38.3, the temperature is 19.3, the cloudiness is 100, the humidity is 79, the windspeed is 7.21\n",
      "The city is : sao raimundo das mangabeiras, the lattitude is -7.02, the temperature is 31.3, the cloudiness is 0, the humidity is 29, the windspeed is 2.54\n",
      "The city is : wanning, the lattitude is 48.64, the temperature is 21.11, the cloudiness is 75, the humidity is 68, the windspeed is 3.1\n",
      "The city is : saint-prosper, the lattitude is 46.21, the temperature is 26.67, the cloudiness is 0, the humidity is 48, the windspeed is 3.13\n",
      "The city is : kodiak, the lattitude is 39.95, the temperature is 26.67, the cloudiness is 75, the humidity is 65, the windspeed is 3.6\n",
      "The city is : maputo, the lattitude is -25.97, the temperature is 21, the cloudiness is 0, the humidity is 88, the windspeed is 5.7\n",
      "The city is : pacatuba, the lattitude is -10.45, the temperature is 19.9, the cloudiness is 0, the humidity is 90, the windspeed is 1.98\n",
      "The city is : kaitangata, the lattitude is -46.28, the temperature is 4.44, the cloudiness is 81, the humidity is 74, the windspeed is 2.68\n",
      "The city is : moose factory, the lattitude is 51.26, the temperature is 17, the cloudiness is 75, the humidity is 63, the windspeed is 7.2\n",
      "The city is : benavente, the lattitude is 42, the temperature is 29.44, the cloudiness is 0, the humidity is 20, the windspeed is 2.1\n",
      "The city is : dawei, the lattitude is 14.07, the temperature is 27, the cloudiness is 100, the humidity is 83, the windspeed is 11.93\n",
      "The city is : fonte boa, the lattitude is -2.51, the temperature is 28.3, the cloudiness is 53, the humidity is 77, the windspeed is 1.4\n",
      "The city is : freeport, the lattitude is 26.54, the temperature is 30, the cloudiness is 75, the humidity is 70, the windspeed is 3.1\n",
      "The city is : cayenne, the lattitude is 4.94, the temperature is 30, the cloudiness is 25, the humidity is 70, the windspeed is 1.5\n",
      "The city is : aswan, the lattitude is 24.09, the temperature is 38, the cloudiness is 0, the humidity is 16, the windspeed is 2.1\n",
      "The city is : severo-kurilsk, the lattitude is 50.68, the temperature is 10, the cloudiness is 100, the humidity is 87, the windspeed is 1.46\n",
      "The city is : gold coast, the lattitude is -28, the temperature is 12.78, the cloudiness is 1, the humidity is 93, the windspeed is 1.5\n",
      "The city is : toamasina, the lattitude is -18.17, the temperature is 22, the cloudiness is 40, the humidity is 73, the windspeed is 2.6\n",
      "The city is : cidreira, the lattitude is -30.17, the temperature is 11.3, the cloudiness is 33, the humidity is 64, the windspeed is 5.23\n"
     ]
    },
    {
     "name": "stdout",
     "output_type": "stream",
     "text": [
      "The city is : rovinj, the lattitude is 45.08, the temperature is 21, the cloudiness is 40, the humidity is 82, the windspeed is 7.2\n",
      "The city is : kidal, the lattitude is 18.44, the temperature is 38.7, the cloudiness is 34, the humidity is 11, the windspeed is 3.68\n",
      "The city is : chippewa falls, the lattitude is 44.94, the temperature is 28.89, the cloudiness is 75, the humidity is 54, the windspeed is 2.13\n",
      "The city is : manavalakurichi, the lattitude is 8.13, the temperature is 28, the cloudiness is 40, the humidity is 83, the windspeed is 1.5\n",
      "City not found... skipping.\n",
      "The city is : camacha, the lattitude is 33.08, the temperature is 24, the cloudiness is 40, the humidity is 78, the windspeed is 4.6\n",
      "The city is : chokurdakh, the lattitude is 70.62, the temperature is 5.5, the cloudiness is 0, the humidity is 64, the windspeed is 4\n",
      "The city is : souillac, the lattitude is 45.6, the temperature is 25, the cloudiness is 0, the humidity is 53, the windspeed is 4.6\n",
      "The city is : roma, the lattitude is 41.89, the temperature is 29, the cloudiness is 40, the humidity is 37, the windspeed is 2.1\n",
      "The city is : alamogordo, the lattitude is 32.9, the temperature is 37.22, the cloudiness is 20, the humidity is 21, the windspeed is 2.6\n",
      "The city is : belmonte, the lattitude is 40.36, the temperature is 26.67, the cloudiness is 0, the humidity is 39, the windspeed is 2\n",
      "The city is : pecos, the lattitude is 31.42, the temperature is 37, the cloudiness is 1, the humidity is 19, the windspeed is 1.86\n",
      "City not found... skipping.\n",
      "The city is : ayagoz, the lattitude is 47.96, the temperature is 20.3, the cloudiness is 0, the humidity is 60, the windspeed is 4.91\n",
      "The city is : faya, the lattitude is 18.39, the temperature is 22, the cloudiness is 0, the humidity is 77, the windspeed is 3.1\n",
      "The city is : komsomolskiy, the lattitude is 67.55, the temperature is 11.6, the cloudiness is 100, the humidity is 91, the windspeed is 8.61\n",
      "The city is : sinnamary, the lattitude is 5.38, the temperature is 28, the cloudiness is 26, the humidity is 76, the windspeed is 7.6\n",
      "City not found... skipping.\n",
      "The city is : teknaf, the lattitude is 20.86, the temperature is 28.9, the cloudiness is 100, the humidity is 80, the windspeed is 9.25\n",
      "The city is : wufeng, the lattitude is 27.44, the temperature is 16.2, the cloudiness is 100, the humidity is 94, the windspeed is 2\n",
      "The city is : den helder, the lattitude is 52.96, the temperature is 20, the cloudiness is 75, the humidity is 82, the windspeed is 5.1\n",
      "The city is : hasaki, the lattitude is 35.73, the temperature is 25, the cloudiness is 20, the humidity is 100, the windspeed is 2.6\n",
      "The city is : aykhal, the lattitude is 65.95, the temperature is 9, the cloudiness is 90, the humidity is 100, the windspeed is 4\n",
      "The city is : guaruja, the lattitude is -23.99, the temperature is 22, the cloudiness is 90, the humidity is 83, the windspeed is 4.6\n",
      "The city is : viedma, the lattitude is -40.81, the temperature is 10.2, the cloudiness is 0, the humidity is 58, the windspeed is 5.75\n",
      "The city is : sayyan, the lattitude is 15.17, the temperature is 21.4, the cloudiness is 100, the humidity is 69, the windspeed is 0.61\n",
      "The city is : batemans bay, the lattitude is -35.71, the temperature is 5, the cloudiness is 0, the humidity is 86, the windspeed is 1.01\n",
      "The city is : moskovskiy, the lattitude is 55.6, the temperature is 15, the cloudiness is 0, the humidity is 76, the windspeed is 3\n",
      "City not found... skipping.\n",
      "The city is : amapa, the lattitude is 15.09, the temperature is 32, the cloudiness is 75, the humidity is 59, the windspeed is 5.7\n",
      "The city is : constitucion, the lattitude is 23.99, the temperature is 27.78, the cloudiness is 40, the humidity is 27, the windspeed is 2.1\n",
      "The city is : san vicente, the lattitude is -0.59, the temperature is 27, the cloudiness is 75, the humidity is 69, the windspeed is 5.1\n",
      "The city is : concordia, the lattitude is -31.4, the temperature is 15, the cloudiness is 0, the humidity is 38, the windspeed is 10.3\n",
      "The city is : husavik, the lattitude is 50.56, the temperature is 31.67, the cloudiness is 0, the humidity is 38, the windspeed is 0.89\n",
      "City not found... skipping.\n",
      "The city is : williamsport, the lattitude is 41.25, the temperature is 29, the cloudiness is 40, the humidity is 61, the windspeed is 2.1\n",
      "The city is : kathmandu, the lattitude is 27.71, the temperature is 22, the cloudiness is 75, the humidity is 94, the windspeed is 1.5\n",
      "The city is : grand-santi, the lattitude is 4.27, the temperature is 30.1, the cloudiness is 60, the humidity is 60, the windspeed is 0.76\n",
      "The city is : boueni, the lattitude is -12.9, the temperature is 24, the cloudiness is 0, the humidity is 83, the windspeed is 1\n",
      "The city is : ostrovnoy, the lattitude is 68.05, the temperature is 4.4, the cloudiness is 100, the humidity is 97, the windspeed is 7.76\n",
      "The city is : rabo de peixe, the lattitude is 37.8, the temperature is 21, the cloudiness is 20, the humidity is 88, the windspeed is 5.1\n",
      "The city is : calvinia, the lattitude is -31.47, the temperature is 5.3, the cloudiness is 0, the humidity is 81, the windspeed is 0.57\n",
      "The city is : coahuayana, the lattitude is 18.62, the temperature is 31.6, the cloudiness is 0, the humidity is 61, the windspeed is 1.07\n",
      "The city is : moga, the lattitude is 30.82, the temperature is 26.1, the cloudiness is 56, the humidity is 88, the windspeed is 3.11\n",
      "The city is : breytovo, the lattitude is 58.3, the temperature is 8.8, the cloudiness is 88, the humidity is 96, the windspeed is 2.39\n",
      "The city is : owando, the lattitude is -0.49, the temperature is 25.7, the cloudiness is 21, the humidity is 60, the windspeed is 1.12\n",
      "The city is : labranzagrande, the lattitude is 5.56, the temperature is 12.3, the cloudiness is 88, the humidity is 86, the windspeed is 2.78\n",
      "The city is : bernau, the lattitude is 48.05, the temperature is 22.78, the cloudiness is 89, the humidity is 73, the windspeed is 2.1\n",
      "The city is : fairmont, the lattitude is 40.64, the temperature is 26, the cloudiness is 90, the humidity is 94, the windspeed is 3.1\n",
      "The city is : markala, the lattitude is 13.69, the temperature is 29, the cloudiness is 72, the humidity is 65, the windspeed is 5.23\n",
      "The city is : san luis, the lattitude is -33.3, the temperature is 14.8, the cloudiness is 0, the humidity is 18, the windspeed is 0.96\n",
      "The city is : lompoc, the lattitude is 34.64, the temperature is 30, the cloudiness is 1, the humidity is 68, the windspeed is 6.7\n",
      "The city is : aksarka, the lattitude is 66.56, the temperature is 12.4, the cloudiness is 99, the humidity is 88, the windspeed is 9.17\n",
      "The city is : sabha, the lattitude is 27.03, the temperature is 29.1, the cloudiness is 0, the humidity is 27, the windspeed is 4.03\n",
      "The city is : zhuhai, the lattitude is 40.71, the temperature is 17, the cloudiness is 20, the humidity is 77, the windspeed is 2\n",
      "The city is : nieuw amsterdam, the lattitude is 5.88, the temperature is 34, the cloudiness is 40, the humidity is 46, the windspeed is 2.6\n",
      "The city is : nazas, the lattitude is 25.22, the temperature is 29.6, the cloudiness is 4, the humidity is 21, the windspeed is 5.57\n",
      "The city is : barao de melgaco, the lattitude is -16.19, the temperature is 28, the cloudiness is 0, the humidity is 45, the windspeed is 7.2\n",
      "The city is : tukums, the lattitude is 56.97, the temperature is 14, the cloudiness is 0, the humidity is 76, the windspeed is 1.5\n",
      "The city is : riyadh, the lattitude is 24.63, the temperature is 36, the cloudiness is 0, the humidity is 14, the windspeed is 2.6\n",
      "The city is : viline, the lattitude is 44.84, the temperature is 23, the cloudiness is 0, the humidity is 54, the windspeed is 3.46\n",
      "The city is : xuddur, the lattitude is 4.12, the temperature is 24.4, the cloudiness is 0, the humidity is 75, the windspeed is 8.79\n",
      "The city is : chake chake, the lattitude is -5.25, the temperature is 25.5, the cloudiness is 84, the humidity is 83, the windspeed is 6.84\n",
      "The city is : monster, the lattitude is 52.03, the temperature is 20, the cloudiness is 40, the humidity is 82, the windspeed is 4.6\n",
      "The city is : nyrob, the lattitude is 60.74, the temperature is 10.5, the cloudiness is 100, the humidity is 98, the windspeed is 4.25\n"
     ]
    },
    {
     "name": "stdout",
     "output_type": "stream",
     "text": [
      "The city is : muisne, the lattitude is 0.61, the temperature is 28, the cloudiness is 75, the humidity is 74, the windspeed is 2.6\n",
      "The city is : zeltweg, the lattitude is 47.19, the temperature is 20, the cloudiness is 34, the humidity is 87, the windspeed is 1\n",
      "The city is : nhulunbuy, the lattitude is -12.18, the temperature is 21, the cloudiness is 66, the humidity is 88, the windspeed is 2.6\n",
      "The city is : vondrozo, the lattitude is -22.82, the temperature is 17.4, the cloudiness is 100, the humidity is 92, the windspeed is 1.72\n",
      "The city is : saint-pierre, the lattitude is 48.95, the temperature is 24, the cloudiness is 0, the humidity is 53, the windspeed is 4.1\n",
      "The city is : bonthe, the lattitude is 7.53, the temperature is 24.4, the cloudiness is 100, the humidity is 88, the windspeed is 6.07\n",
      "The city is : bermejo, the lattitude is -22.73, the temperature is 18.5, the cloudiness is 2, the humidity is 18, the windspeed is 2.51\n",
      "The city is : medzilaborce, the lattitude is 49.27, the temperature is 17.78, the cloudiness is 100, the humidity is 64, the windspeed is 0.45\n",
      "City not found... skipping.\n",
      "The city is : colesberg, the lattitude is -30.72, the temperature is 9.5, the cloudiness is 0, the humidity is 30, the windspeed is 3.44\n",
      "The city is : marsh harbour, the lattitude is 26.54, the temperature is 29.3, the cloudiness is 100, the humidity is 73, the windspeed is 7.44\n",
      "The city is : quatre cocos, the lattitude is -20.21, the temperature is 22, the cloudiness is 20, the humidity is 73, the windspeed is 4.1\n",
      "The city is : bilma, the lattitude is 18.69, the temperature is 34.9, the cloudiness is 38, the humidity is 30, the windspeed is 7.18\n",
      "The city is : tra vinh, the lattitude is 9.93, the temperature is 24.5, the cloudiness is 100, the humidity is 93, the windspeed is 1.76\n",
      "The city is : mackay, the lattitude is 53.65, the temperature is 18, the cloudiness is 90, the humidity is 93, the windspeed is 1\n",
      "The city is : rocha, the lattitude is -34.48, the temperature is 8, the cloudiness is 100, the humidity is 77, the windspeed is 6.87\n",
      "The city is : half moon bay, the lattitude is 37.46, the temperature is 27.22, the cloudiness is 90, the humidity is 100, the windspeed is 5.1\n",
      "The city is : margate, the lattitude is -43.03, the temperature is 7.22, the cloudiness is 75, the humidity is 93, the windspeed is 6.2\n",
      "The city is : kavaratti, the lattitude is 10.57, the temperature is 28.4, the cloudiness is 100, the humidity is 79, the windspeed is 8.19\n",
      "The city is : belaya kholunitsa, the lattitude is 58.84, the temperature is 10.2, the cloudiness is 94, the humidity is 89, the windspeed is 4.3\n",
      "The city is : lamu, the lattitude is 35.77, the temperature is 8.7, the cloudiness is 0, the humidity is 70, the windspeed is 0.19\n",
      "The city is : ust-nera, the lattitude is 64.57, the temperature is 3.5, the cloudiness is 100, the humidity is 95, the windspeed is 2.26\n",
      "The city is : nadym, the lattitude is 65.53, the temperature is 15.6, the cloudiness is 42, the humidity is 88, the windspeed is 10.56\n",
      "The city is : oistins, the lattitude is 13.07, the temperature is 30, the cloudiness is 75, the humidity is 70, the windspeed is 9.8\n",
      "The city is : togitsu, the lattitude is 32.83, the temperature is 30, the cloudiness is 75, the humidity is 83, the windspeed is 1\n",
      "The city is : oranjemund, the lattitude is -28.55, the temperature is 13.4, the cloudiness is 0, the humidity is 87, the windspeed is 3.42\n",
      "The city is : nelson bay, the lattitude is -32.72, the temperature is 9.44, the cloudiness is 90, the humidity is 100, the windspeed is 3.6\n",
      "The city is : kamir, the lattitude is 30.43, the temperature is 30, the cloudiness is 26, the humidity is 65, the windspeed is 3.65\n",
      "The city is : ouallam, the lattitude is 14.32, the temperature is 32.9, the cloudiness is 85, the humidity is 46, the windspeed is 9.58\n",
      "The city is : kathu, the lattitude is -27.7, the temperature is 9.1, the cloudiness is 0, the humidity is 30, the windspeed is 1.85\n",
      "The city is : trinidad, the lattitude is -14.83, the temperature is 25, the cloudiness is 20, the humidity is 29, the windspeed is 11.3\n",
      "The city is : ponta pora, the lattitude is -22.54, the temperature is 12, the cloudiness is 40, the humidity is 66, the windspeed is 7.2\n",
      "The city is : yulara, the lattitude is -25.24, the temperature is 5, the cloudiness is 0, the humidity is 52, the windspeed is 3.1\n",
      "The city is : yeysk, the lattitude is 46.71, the temperature is 21.1, the cloudiness is 8, the humidity is 56, the windspeed is 3.75\n",
      "The city is : nome, the lattitude is 30.04, the temperature is 34.44, the cloudiness is 40, the humidity is 49, the windspeed is 2.6\n",
      "The city is : kawalu, the lattitude is -7.38, the temperature is 18.2, the cloudiness is 41, the humidity is 93, the windspeed is 1.4\n",
      "The city is : mitha tiwana, the lattitude is 32.24, the temperature is 28.4, the cloudiness is 0, the humidity is 65, the windspeed is 4.02\n",
      "The city is : ancud, the lattitude is -41.87, the temperature is 9, the cloudiness is 75, the humidity is 87, the windspeed is 4.6\n",
      "The city is : cap malheureux, the lattitude is -19.98, the temperature is 22, the cloudiness is 20, the humidity is 73, the windspeed is 4.1\n",
      "The city is : smithers, the lattitude is 54.78, the temperature is 16, the cloudiness is 75, the humidity is 63, the windspeed is 3.6\n",
      "The city is : berezovyy, the lattitude is 51.67, the temperature is 13.9, the cloudiness is 34, the humidity is 93, the windspeed is 1.09\n",
      "The city is : sumbe, the lattitude is -11.2, the temperature is 20.4, the cloudiness is 5, the humidity is 81, the windspeed is 5.18\n",
      "The city is : brownsville, the lattitude is 25.91, the temperature is 35, the cloudiness is 20, the humidity is 59, the windspeed is 5.1\n",
      "The city is : gorgan, the lattitude is 36.84, the temperature is 27, the cloudiness is 90, the humidity is 88, the windspeed is 5.1\n",
      "The city is : college, the lattitude is 64.86, the temperature is 13, the cloudiness is 90, the humidity is 93, the windspeed is 4.6\n",
      "The city is : aklavik, the lattitude is 68.22, the temperature is 14, the cloudiness is 40, the humidity is 67, the windspeed is 1\n",
      "City not found... skipping.\n",
      "The city is : asopos, the lattitude is 36.73, the temperature is 23.7, the cloudiness is 0, the humidity is 59, the windspeed is 1.71\n",
      "The city is : salekhard, the lattitude is 66.54, the temperature is 12.8, the cloudiness is 99, the humidity is 84, the windspeed is 11.33\n",
      "The city is : taltal, the lattitude is -25.41, the temperature is 16.6, the cloudiness is 0, the humidity is 48, the windspeed is 1.41\n",
      "The city is : hyeres, the lattitude is 43.12, the temperature is 31.67, the cloudiness is 0, the humidity is 28, the windspeed is 3.6\n",
      "The city is : raudeberg, the lattitude is 61.99, the temperature is 22, the cloudiness is 0, the humidity is 43, the windspeed is 6.2\n",
      "The city is : yar-sale, the lattitude is 66.83, the temperature is 13.8, the cloudiness is 69, the humidity is 78, the windspeed is 9.01\n",
      "The city is : coquimbo, the lattitude is -29.95, the temperature is 17, the cloudiness is 0, the humidity is 45, the windspeed is 5.1\n",
      "The city is : yarmouth, the lattitude is 43.84, the temperature is 23.89, the cloudiness is 20, the humidity is 60, the windspeed is 3.6\n",
      "The city is : melfort, the lattitude is 52.87, the temperature is 24, the cloudiness is 1, the humidity is 73, the windspeed is 2.6\n",
      "The city is : tufanganj, the lattitude is 26.23, the temperature is 26, the cloudiness is 89, the humidity is 90, the windspeed is 1.7\n",
      "The city is : jadu, the lattitude is 31.95, the temperature is 29.2, the cloudiness is 0, the humidity is 24, the windspeed is 3.33\n",
      "The city is : hualmay, the lattitude is -11.1, the temperature is 15.7, the cloudiness is 31, the humidity is 85, the windspeed is 5.61\n",
      "The city is : nantucket, the lattitude is 41.28, the temperature is 27.78, the cloudiness is 1, the humidity is 50, the windspeed is 4.1\n",
      "City not found... skipping.\n",
      "The city is : termoli, the lattitude is 42, the temperature is 27.78, the cloudiness is 1, the humidity is 40, the windspeed is 7.15\n",
      "The city is : kelvington, the lattitude is 52.16, the temperature is 27.9, the cloudiness is 51, the humidity is 64, the windspeed is 6.95\n"
     ]
    },
    {
     "name": "stdout",
     "output_type": "stream",
     "text": [
      "City not found... skipping.\n",
      "The city is : christchurch, the lattitude is -43.53, the temperature is 7.78, the cloudiness is 31, the humidity is 74, the windspeed is 6.2\n",
      "City not found... skipping.\n",
      "The city is : guerrero negro, the lattitude is 27.97, the temperature is 20.4, the cloudiness is 0, the humidity is 87, the windspeed is 5.7\n",
      "The city is : del rio, the lattitude is 29.36, the temperature is 36, the cloudiness is 1, the humidity is 37, the windspeed is 4.1\n",
      "The city is : salalah, the lattitude is 17.01, the temperature is 26, the cloudiness is 90, the humidity is 94, the windspeed is 1.5\n",
      "The city is : eagle pass, the lattitude is 28.71, the temperature is 36, the cloudiness is 5, the humidity is 47, the windspeed is 4.1\n",
      "The city is : naujamiestis, the lattitude is 55.69, the temperature is 14, the cloudiness is 0, the humidity is 71, the windspeed is 2.1\n",
      "The city is : nizhnevartovsk, the lattitude is 60.93, the temperature is 19, the cloudiness is 40, the humidity is 93, the windspeed is 3\n",
      "The city is : severobaykalsk, the lattitude is 55.65, the temperature is 9.7, the cloudiness is 36, the humidity is 82, the windspeed is 1.71\n",
      "The city is : flinders, the lattitude is -34.58, the temperature is 9.44, the cloudiness is 0, the humidity is 87, the windspeed is 4.1\n",
      "City not found... skipping.\n",
      "City not found... skipping.\n",
      "The city is : bathsheba, the lattitude is 13.22, the temperature is 30, the cloudiness is 75, the humidity is 70, the windspeed is 9.8\n",
      "The city is : adrar, the lattitude is 27.87, the temperature is 44, the cloudiness is 40, the humidity is 12, the windspeed is 4.6\n",
      "The city is : mardin, the lattitude is 37.32, the temperature is 32, the cloudiness is 0, the humidity is 19, the windspeed is 5.1\n",
      "The city is : hun, the lattitude is 50.34, the temperature is 20, the cloudiness is 20, the humidity is 77, the windspeed is 2.6\n",
      "The city is : mogadishu, the lattitude is 2.04, the temperature is 24.5, the cloudiness is 45, the humidity is 87, the windspeed is 6.63\n",
      "The city is : jimenez, the lattitude is 8.54, the temperature is 27, the cloudiness is 40, the humidity is 94, the windspeed is 5.1\n",
      "The city is : ixtapa, the lattitude is 20.71, the temperature is 32.22, the cloudiness is 40, the humidity is 58, the windspeed is 4.1\n",
      "City not found... skipping.\n",
      "The city is : puerto leguizamo, the lattitude is -0.19, the temperature is 31.4, the cloudiness is 18, the humidity is 47, the windspeed is 1.75\n",
      "The city is : lengshuijiang, the lattitude is 27.66, the temperature is 21.5, the cloudiness is 57, the humidity is 84, the windspeed is 1.24\n",
      "The city is : utrecht, the lattitude is 52.09, the temperature is 20, the cloudiness is 40, the humidity is 77, the windspeed is 4.6\n",
      "The city is : kautokeino, the lattitude is 69.01, the temperature is 3.6, the cloudiness is 0, the humidity is 84, the windspeed is 2.46\n",
      "The city is : mahibadhoo, the lattitude is 3.78, the temperature is 28.6, the cloudiness is 100, the humidity is 77, the windspeed is 5.2\n",
      "The city is : san nicolas, the lattitude is 13.93, the temperature is 25, the cloudiness is 90, the humidity is 100, the windspeed is 3.6\n",
      "The city is : nioro, the lattitude is 13.79, the temperature is 28.8, the cloudiness is 65, the humidity is 53, the windspeed is 6.86\n",
      "The city is : omsukchan, the lattitude is 62.53, the temperature is 5.5, the cloudiness is 100, the humidity is 92, the windspeed is 1.67\n",
      "The city is : mecca, the lattitude is 21.43, the temperature is 28.3, the cloudiness is 1, the humidity is 46, the windspeed is 1.25\n",
      "The city is : guangyuan, the lattitude is 32.43, the temperature is 20.1, the cloudiness is 99, the humidity is 95, the windspeed is 1.29\n",
      "The city is : hirakud, the lattitude is 21.53, the temperature is 24.9, the cloudiness is 93, the humidity is 93, the windspeed is 1.65\n",
      "The city is : laranjeiras do sul, the lattitude is -25.41, the temperature is 7.5, the cloudiness is 62, the humidity is 78, the windspeed is 3.87\n",
      "The city is : bahia blanca, the lattitude is -38.72, the temperature is 11, the cloudiness is 0, the humidity is 42, the windspeed is 4.19\n",
      "The city is : mosquera, the lattitude is 4.71, the temperature is 16, the cloudiness is 40, the humidity is 72, the windspeed is 2.1\n",
      "The city is : radinac, the lattitude is 44.63, the temperature is 23, the cloudiness is 0, the humidity is 88, the windspeed is 5.1\n",
      "The city is : walvis bay, the lattitude is -22.95, the temperature is 25, the cloudiness is 0, the humidity is 83, the windspeed is 2.6\n",
      "The city is : pouembout, the lattitude is -21.12, the temperature is 19.3, the cloudiness is 42, the humidity is 70, the windspeed is 7.06\n",
      "The city is : fairview, the lattitude is 56.07, the temperature is 19, the cloudiness is 75, the humidity is 72, the windspeed is 2.1\n",
      "The city is : sainte-thecle, the lattitude is 46.82, the temperature is 28, the cloudiness is 20, the humidity is 39, the windspeed is 7.7\n",
      "The city is : la ronge, the lattitude is 55.1, the temperature is 23, the cloudiness is 90, the humidity is 73, the windspeed is 4.6\n",
      "The city is : bulakamba, the lattitude is -6.87, the temperature is 18.4, the cloudiness is 17, the humidity is 93, the windspeed is 3.76\n",
      "The city is : mehamn, the lattitude is 71.03, the temperature is 6, the cloudiness is 100, the humidity is 81, the windspeed is 2.77\n",
      "City not found... skipping.\n",
      "The city is : pierre, the lattitude is 44.37, the temperature is 25.56, the cloudiness is 90, the humidity is 73, the windspeed is 7.2\n",
      "The city is : tahoua, the lattitude is 14.89, the temperature is 29, the cloudiness is 20, the humidity is 62, the windspeed is 8.2\n",
      "The city is : novyy urengoy, the lattitude is 66.08, the temperature is 15, the cloudiness is 91, the humidity is 71, the windspeed is 9.98\n",
      "The city is : mombasa, the lattitude is -4.05, the temperature is 25, the cloudiness is 40, the humidity is 88, the windspeed is 2.6\n",
      "The city is : svetlaya, the lattitude is 46.54, the temperature is 18.7, the cloudiness is 0, the humidity is 80, the windspeed is 1.59\n",
      "The city is : longkou, the lattitude is 37.64, the temperature is 26.2, the cloudiness is 98, the humidity is 87, the windspeed is 5.08\n",
      "The city is : vestnes, the lattitude is 62.63, the temperature is 17, the cloudiness is 20, the humidity is 67, the windspeed is 2.1\n",
      "The city is : havoysund, the lattitude is 71, the temperature is 7, the cloudiness is 0, the humidity is 87, the windspeed is 5.1\n",
      "The city is : bobrovka, the lattitude is 52.3, the temperature is 10.3, the cloudiness is 78, the humidity is 95, the windspeed is 2.84\n",
      "The city is : anahuac, the lattitude is 26.44, the temperature is 36.11, the cloudiness is 0, the humidity is 52, the windspeed is 2.24\n",
      "The city is : mizdah, the lattitude is 31.45, the temperature is 26.1, the cloudiness is 0, the humidity is 25, the windspeed is 2.89\n",
      "The city is : willowmore, the lattitude is -33.3, the temperature is 8.8, the cloudiness is 62, the humidity is 88, the windspeed is 2.23\n",
      "The city is : goderich, the lattitude is 43.74, the temperature is 27.78, the cloudiness is 0, the humidity is 74, the windspeed is 4.47\n",
      "The city is : hami, the lattitude is 42.84, the temperature is 26.7, the cloudiness is 0, the humidity is 26, the windspeed is 7.64\n",
      "The city is : bail hongal, the lattitude is 15.82, the temperature is 20.8, the cloudiness is 100, the humidity is 91, the windspeed is 6.4\n",
      "The city is : catuday, the lattitude is 16.29, the temperature is 28.3, the cloudiness is 100, the humidity is 82, the windspeed is 9.01\n",
      "The city is : sarapul, the lattitude is 56.48, the temperature is 12.78, the cloudiness is 100, the humidity is 87, the windspeed is 0.45\n",
      "The city is : mandiana, the lattitude is 10.62, the temperature is 22.6, the cloudiness is 100, the humidity is 95, the windspeed is 2.08\n",
      "The city is : digby, the lattitude is 44.62, the temperature is 22.22, the cloudiness is 0, the humidity is 69, the windspeed is 7.15\n",
      "City not found... skipping.\n",
      "The city is : kapiri mposhi, the lattitude is -13.97, the temperature is 16.9, the cloudiness is 42, the humidity is 70, the windspeed is 4.24\n",
      "City not found... skipping.\n",
      "The city is : karpathos, the lattitude is 35.51, the temperature is 26, the cloudiness is 0, the humidity is 78, the windspeed is 5.1\n",
      "The city is : dicabisagan, the lattitude is 17.08, the temperature is 23.5, the cloudiness is 94, the humidity is 95, the windspeed is 0.95\n"
     ]
    },
    {
     "name": "stdout",
     "output_type": "stream",
     "text": [
      "The city is : parana, the lattitude is -7.52, the temperature is 33, the cloudiness is 75, the humidity is 46, the windspeed is 0.5\n",
      "The city is : mudkhed, the lattitude is 19.15, the temperature is 23, the cloudiness is 100, the humidity is 93, the windspeed is 6.47\n",
      "The city is : kungalv, the lattitude is 57.87, the temperature is 19.44, the cloudiness is 0, the humidity is 55, the windspeed is 3.1\n",
      "The city is : gao, the lattitude is 16.28, the temperature is 38.3, the cloudiness is 69, the humidity is 22, the windspeed is 5.2\n",
      "The city is : nova vicosa, the lattitude is -17.89, the temperature is 22.8, the cloudiness is 0, the humidity is 73, the windspeed is 4.31\n",
      "The city is : vao, the lattitude is 59.1, the temperature is 12.1, the cloudiness is 1, the humidity is 70, the windspeed is 3.3\n",
      "The city is : carballo, the lattitude is 43.21, the temperature is 23.89, the cloudiness is 0, the humidity is 73, the windspeed is 2.6\n",
      "The city is : santa marta, the lattitude is 11.24, the temperature is 33, the cloudiness is 40, the humidity is 63, the windspeed is 3.1\n",
      "City not found... skipping.\n",
      "The city is : faanui, the lattitude is -16.48, the temperature is 26.3, the cloudiness is 18, the humidity is 82, the windspeed is 5.9\n",
      "City not found... skipping.\n",
      "The city is : maues, the lattitude is -3.38, the temperature is 37, the cloudiness is 38, the humidity is 28, the windspeed is 1.87\n",
      "The city is : tecoanapa, the lattitude is 16.99, the temperature is 33, the cloudiness is 20, the humidity is 63, the windspeed is 2.6\n",
      "The city is : heiligenhafen, the lattitude is 54.37, the temperature is 20.56, the cloudiness is 0, the humidity is 72, the windspeed is 2.6\n",
      "The city is : sabang, the lattitude is 13.8, the temperature is 23.3, the cloudiness is 100, the humidity is 96, the windspeed is 2.95\n",
      "City not found... skipping.\n",
      "City not found... skipping.\n",
      "The city is : phulabani, the lattitude is 20.47, the temperature is 22.8, the cloudiness is 81, the humidity is 89, the windspeed is 3.26\n",
      "The city is : esperance, the lattitude is -33.86, the temperature is 10, the cloudiness is 100, the humidity is 57, the windspeed is 7.7\n",
      "The city is : bolshoy lug, the lattitude is 52.08, the temperature is 17, the cloudiness is 0, the humidity is 93, the windspeed is 3\n",
      "The city is : bethel, the lattitude is 60.79, the temperature is 16, the cloudiness is 90, the humidity is 100, the windspeed is 12.3\n",
      "The city is : neiafu, the lattitude is -18.65, the temperature is 23, the cloudiness is 75, the humidity is 94, the windspeed is 1\n",
      "The city is : lazaro cardenas, the lattitude is 28.39, the temperature is 34.44, the cloudiness is 20, the humidity is 24, the windspeed is 3.6\n",
      "The city is : jefferson city, the lattitude is 38.58, the temperature is 29.44, the cloudiness is 1, the humidity is 48, the windspeed is 2.23\n",
      "The city is : petropavlovsk-kamchatskiy, the lattitude is 53.05, the temperature is 14, the cloudiness is 90, the humidity is 100, the windspeed is 2\n",
      "The city is : caibarien, the lattitude is 22.52, the temperature is 29.7, the cloudiness is 70, the humidity is 74, the windspeed is 4.12\n",
      "The city is : palmer, the lattitude is -34.85, the temperature is 10.56, the cloudiness is 75, the humidity is 87, the windspeed is 1.29\n",
      "City not found... skipping.\n",
      "The city is : ulcinj, the lattitude is 41.93, the temperature is 27, the cloudiness is 0, the humidity is 61, the windspeed is 2.1\n",
      "The city is : cedar lake, the lattitude is 41.36, the temperature is 30, the cloudiness is 1, the humidity is 44, the windspeed is 4.1\n",
      "The city is : paamiut, the lattitude is 61.99, the temperature is 5.6, the cloudiness is 29, the humidity is 82, the windspeed is 7.07\n",
      "The city is : belyy yar, the lattitude is 53.6, the temperature is 21, the cloudiness is 0, the humidity is 83, the windspeed is 2\n",
      "City not found... skipping.\n",
      "The city is : visnes, the lattitude is 59.36, the temperature is 17, the cloudiness is 75, the humidity is 77, the windspeed is 3.1\n",
      "The city is : groningen, the lattitude is 53.22, the temperature is 19.44, the cloudiness is 0, the humidity is 82, the windspeed is 5.1\n",
      "The city is : orbassano, the lattitude is 45.01, the temperature is 25.56, the cloudiness is 0, the humidity is 65, the windspeed is 2.1\n",
      "The city is : chernyshevskiy, the lattitude is 63.01, the temperature is 10.9, the cloudiness is 100, the humidity is 95, the windspeed is 3.43\n",
      "The city is : evensk, the lattitude is 61.92, the temperature is 13.5, the cloudiness is 100, the humidity is 48, the windspeed is 0.96\n",
      "The city is : riviere-au-renard, the lattitude is 49, the temperature is 22, the cloudiness is 75, the humidity is 60, the windspeed is 2.6\n",
      "The city is : basco, the lattitude is 40.33, the temperature is 28.89, the cloudiness is 75, the humidity is 54, the windspeed is 2.1\n",
      "The city is : edd, the lattitude is 13.93, the temperature is 32.9, the cloudiness is 100, the humidity is 51, the windspeed is 1.49\n"
     ]
    }
   ],
   "source": [
    "for city in cities:\n",
    "    try:\n",
    "        response= requests.get(query_url + city)\n",
    "        response_json = response.json()\n",
    "        lattitude=response_json['coord']['lat']\n",
    "        lat.append(lattitude)\n",
    "        temperature=response_json['main']['temp_max']\n",
    "        max_temp.append(temperature)\n",
    "        clouds=response_json['clouds']['all']\n",
    "        cloudiness.append(clouds)\n",
    "        humid=response_json['main']['humidity']\n",
    "        humidity.append(humid)\n",
    "        wind=response_json['wind']['speed']\n",
    "        windspeed.append(wind)\n",
    "        ctry=response_json['sys']['country']\n",
    "        country.append(ctry)\n",
    "        city_name=response_json['name']\n",
    "        city_list.append(city_name)\n",
    "        print(f'The city is : {city}, the lattitude is {lattitude}, the temperature is {temperature}, the cloudiness is {clouds}, the humidity is {humid}, the windspeed is {wind}')\n",
    "    except (KeyError, IndexError):\n",
    "        print(\"City not found... skipping.\")\n"
   ]
  },
  {
   "cell_type": "code",
   "execution_count": 9,
   "metadata": {
    "scrolled": false
   },
   "outputs": [
    {
     "name": "stdout",
     "output_type": "stream",
     "text": [
      "{'coord': {'lon': 41.69, 'lat': 13.93}, 'weather': [{'id': 804, 'main': 'Clouds', 'description': 'overcast clouds', 'icon': '04n'}], 'base': 'stations', 'main': {'temp': 32.9, 'pressure': 1005.77, 'humidity': 51, 'temp_min': 32.9, 'temp_max': 32.9, 'sea_level': 1005.77, 'grnd_level': 992.74}, 'wind': {'speed': 1.49, 'deg': 346.057}, 'clouds': {'all': 100}, 'dt': 1564774400, 'sys': {'message': 0.0065, 'country': 'ER', 'sunrise': 1564714651, 'sunset': 1564760485}, 'timezone': 10800, 'id': 338345, 'name': 'Edd', 'cod': 200}\n"
     ]
    }
   ],
   "source": [
    "print(response_json)"
   ]
  },
  {
   "cell_type": "markdown",
   "metadata": {},
   "source": [
    "### Perform API Calls\n",
    "* Perform a weather check on each city using a series of successive API calls.\n",
    "* Include a print log of each city as it'sbeing processed (with the city number and city name).\n"
   ]
  },
  {
   "cell_type": "code",
   "execution_count": null,
   "metadata": {},
   "outputs": [],
   "source": []
  },
  {
   "cell_type": "markdown",
   "metadata": {},
   "source": [
    "### Convert Raw Data to DataFrame\n",
    "* Export the city data into a .csv.\n",
    "* Display the DataFrame"
   ]
  },
  {
   "cell_type": "code",
   "execution_count": 10,
   "metadata": {},
   "outputs": [
    {
     "name": "stdout",
     "output_type": "stream",
     "text": [
      "{'City': 'edd', 'Country': ['FR', 'GL', 'NO', 'KZ', 'US', 'AR', 'IS', 'GB', 'CA', 'TZ', 'HN', 'BY', 'AU', 'AU', 'BN', 'CD', 'AU', 'OM', 'RU', 'CA', 'US', 'CA', 'IN', 'ZA', 'TL', 'BR', 'MX', 'GY', 'RU', 'PF', 'GN', 'ID', 'BR', 'BR', 'IT', 'RU', 'ID', 'GL', 'KI', 'RU', 'ID', 'PH', 'CD', 'RU', 'US', 'MX', 'US', 'EC', 'FO', 'SD', 'US', 'CN', 'BR', 'DE', 'SO', 'ML', 'UG', 'CL', 'PT', 'PT', 'US', 'BR', 'ID', 'US', 'KZ', 'AR', 'RU', 'PF', 'PH', 'IN', 'CA', 'BR', 'RU', 'CA', 'US', 'ZA', 'CA', 'GL', 'CA', 'GL', 'CA', 'CL', 'CA', 'US', 'CO', 'RU', 'AL', 'ET', 'MU', 'AU', 'PH', 'CY', 'ZA', 'NZ', 'BI', 'TH', 'ZA', 'AR', 'AU', 'ZA', 'CA', 'RU', 'PE', 'MX', 'CA', 'BG', 'FO', 'GL', 'BR', 'NA', 'CA', 'AU', 'BR', 'RU', 'AO', 'IR', 'SB', 'AU', 'NZ', 'CA', 'MU', 'DO', 'CA', 'RU', 'ZA', 'US', 'CA', 'CK', 'CA', 'ZA', 'RU', 'MU', 'MX', 'CA', 'AU', 'MX', 'NZ', 'ZA', 'TR', 'RU', 'CG', 'KZ', 'CL', 'ID', 'IN', 'ID', 'PG', 'IN', 'GR', 'CA', 'UG', 'BR', 'DE', 'PA', 'MZ', 'CA', 'ID', 'NZ', 'CN', 'IS', 'PH', 'RU', 'US', 'BR', 'SB', 'AR', 'IR', 'RU', 'BW', 'CA', 'AU', 'SN', 'ID', 'TR', 'IR', 'ID', 'TT', 'CA', 'RU', 'US', 'BR', 'RU', 'RU', 'RU', 'NP', 'FR', 'CN', 'EG', 'SN', 'RU', 'ID', 'AU', 'US', 'GH', 'NC', 'LK', 'CV', 'PF', 'MN', 'CA', 'UY', 'IR', 'ES', 'ZA', 'IN', 'IN', 'IN', 'KR', 'HN', 'RU', 'AR', 'NG', 'AR', 'RU', 'PH', 'CO', 'ZW', 'US', 'CN', 'NG', 'LR', 'GL', 'RU', 'BR', 'IN', 'ID', 'MG', 'MV', 'VN', 'NO', 'PG', 'LK', 'RU', 'AO', 'EG', 'PT', 'IN', 'GB', 'FI', 'PG', 'PT', 'KH', 'RU', 'RU', 'BG', 'ID', 'GL', 'NZ', 'ID', 'RU', 'CM', 'GW', 'AU', 'CN', 'GL', 'PF', 'RU', 'AU', 'BR', 'CA', 'IL', 'RU', 'US', 'VU', 'SY', 'SV', 'US', 'RE', 'BR', 'AR', 'RU', 'RU', 'PE', 'US', 'BR', 'UG', 'CA', 'TM', 'AU', 'MX', 'RU', 'US', 'CA', 'KR', 'BY', 'NG', 'WS', 'DE', 'JP', 'RU', 'BR', 'AR', 'MX', 'ID', 'MZ', 'CL', 'NZ', 'TH', 'BR', 'CD', 'JP', 'IE', 'PE', 'IR', 'GL', 'GL', 'JP', 'NG', 'PE', 'KZ', 'CN', 'AU', 'KM', 'SO', 'BT', 'CD', 'AU', 'CN', 'CN', 'RU', 'ID', 'CL', 'GL', 'FR', 'ID', 'NP', 'RU', 'MX', 'AR', 'NG', 'NO', 'UA', 'RU', 'PK', 'CA', 'CD', 'NO', 'RU', 'US', 'MX', 'CN', 'BR', 'AT', 'CA', 'US', 'MZ', 'BR', 'NZ', 'CA', 'ES', 'MM', 'BR', 'BS', 'GF', 'EG', 'RU', 'AU', 'MG', 'BR', 'HR', 'ML', 'US', 'IN', 'PT', 'RU', 'FR', 'IT', 'US', 'PT', 'US', 'KZ', 'SA', 'RU', 'GF', 'BD', 'CN', 'NL', 'JP', 'RU', 'BR', 'AR', 'YE', 'AU', 'RU', 'HN', 'MX', 'EC', 'AR', 'CA', 'US', 'NP', 'GF', 'YT', 'RU', 'PT', 'ZA', 'MX', 'IN', 'RU', 'CG', 'CO', 'AT', 'US', 'ML', 'AR', 'US', 'RU', 'LY', 'CN', 'SR', 'MX', 'BR', 'LV', 'SA', 'UA', 'SO', 'TZ', 'NL', 'RU', 'EC', 'AT', 'AU', 'MG', 'FR', 'SL', 'AR', 'SK', 'ZA', 'BS', 'MU', 'NE', 'VN', 'CA', 'UY', 'US', 'AU', 'IN', 'RU', 'CN', 'RU', 'RU', 'BB', 'JP', 'ZA', 'AU', 'PK', 'NE', 'ZA', 'BO', 'BR', 'AU', 'RU', 'US', 'ID', 'PK', 'CL', 'MU', 'CA', 'RU', 'AO', 'US', 'IR', 'US', 'CA', 'GR', 'RU', 'CL', 'FR', 'NO', 'RU', 'CL', 'CA', 'CA', 'IN', 'LY', 'PE', 'US', 'IT', 'CA', 'NZ', 'MX', 'US', 'OM', 'MX', 'LT', 'RU', 'RU', 'AU', 'BB', 'DZ', 'TR', 'BE', 'SO', 'PA', 'MX', 'CO', 'CN', 'NL', 'NO', 'MV', 'PH', 'GM', 'RU', 'SA', 'CN', 'IN', 'BR', 'AR', 'CO', 'RS', 'NA', 'NC', 'CA', 'CA', 'CA', 'ID', 'NO', 'US', 'NE', 'RU', 'KE', 'RU', 'CN', 'NO', 'NO', 'RU', 'MX', 'LY', 'ZA', 'CA', 'CN', 'IN', 'PH', 'RU', 'GN', 'CA', 'ZM', 'GR', 'PH', 'BR', 'IN', 'SE', 'ML', 'BR', 'EE', 'ES', 'CO', 'PF', 'BR', 'MX', 'DE', 'PH', 'IN', 'AU', 'RU', 'US', 'TO', 'MX', 'US', 'RU', 'CU', 'AU', 'ME', 'US', 'GL', 'RU', 'NO', 'NL', 'IT', 'RU', 'RU', 'CA', 'US', 'ER'], 'Lattitude': [43.56, 60.14, 78.22, 50.41, 42.65, -54.81, 63.44, 52.06, 65.28, -3.17, 13.43, 54.29, -42.88, -34.72, 5.28, -5.47, -33.64, 23.6, 52.02, 53.82, 46.98, 47.66, 15.34, -34.42, -8.93, -5.81, 27.32, 6.8, 71.98, -9.8, 10.74, -3.41, -20.63, -32.03, 46.01, 70, -10.16, 72.79, 3.07, 60.89, -2.54, 6.85, 3.25, 63.05, 40.6, 19.7, 39.15, -0.74, 62.23, 14.2, 22.08, 43.11, -0.41, 50.93, 9.49, 20.2, 3.51, -42.48, 38.52, 38.42, 43.97, -27.15, -7.54, 39.31, 44.18, -39.03, 54.3, -23.12, 17.54, 11.67, 69.44, -2.76, 71.97, 50.25, 19.71, -33.93, 60.82, 68.31, 62.45, 77.48, 55.74, -53.16, 60.75, 44.06, 5.69, 69.7, 40.35, 8.96, -20.34, -23.58, 12.18, 34.92, -34.05, -39.94, -3.48, 6.87, -30.97, -43.3, -42.78, -33.59, 63.75, 68.82, -12.06, 16.86, 50.23, 41.53, 62.16, 60.91, -2.92, -26.65, 70.47, -23.7, -11.81, 59.46, -15.19, 32.86, -9.43, -33.21, -46.19, 43.88, -20.41, 19.55, 54.77, 65.58, -34, 33.19, 49.72, -21.21, 45.63, -34.53, 56.85, -20.01, 15.86, 45.36, -37.83, 27.69, -45.41, -33.02, 37.18, 68.75, -4.77, 44.14, -22.09, -0.91, 28.23, 0.54, -2.02, 25.33, 39.45, 48.41, 1.91, -10.41, 50.93, 8.69, -16.23, 48.65, -0.86, -46.13, 49.2, 63.84, 8, 52.23, 33.61, -22.97, -8.15, -46.43, 30.65, 64.42, -25.27, 44.08, -28.65, 12.49, -5.67, 41.09, 38.43, -8.45, 10.28, 66.15, 73.51, 21.35, -8.9, 61.28, 57.24, 53.69, 27.38, 48.85, 38.94, 27.18, 14.69, 71.64, -8.21, -25.3, 43.41, 4.89, -22.28, 7.42, 14.9, -16.7, 45.76, 63.59, -33.69, 38.23, 42.77, -28.77, 30.78, 10.53, 28.97, 35.24, 14.68, 69.38, -29.14, 7.19, -24.79, 55.93, 18.47, 8.3, -21.05, 38.9, 40.29, 11.84, 6.33, 64.17, 66.32, -21.7, 27.06, 4.14, -13.19, -0.6, 22.83, 66.23, -2.57, 6.12, 61.04, -6.13, 31.35, 37.72, 26.8, 52.47, 64.81, -10.62, 41.42, 13.5, 54.43, 64.27, 43.43, -0.42, 65.42, -35.17, 5.56, 54.5, 3.77, 11.28, -20.73, 32.34, 69.22, -17.73, 51.52, -37.88, -20.25, 54.52, 32.52, 46.45, 33.79, -19.55, 35.3, 13.59, 39.62, -21.13, -27.69, -38.31, 52.62, 65.83, -13.71, 44.53, -3.71, 3.3, 49.76, 39.24, -20.77, 22.89, 59.7, 64.84, 50.2, 37.57, 53.09, 5.43, -13.87, 51.73, 33.93, 64.9, -4.67, -45.87, 21.54, -7.37, -13.13, -45.58, -35.1, 7.42, -6.22, -5.62, 39.72, 54.11, -5.56, 25.29, 65.61, 60.72, 36.58, 12.64, -5.09, 49.15, 34.57, -28.95, -11.38, 8.41, 27.28, -3.52, -34.18, 25.86, 26.25, 63.79, -2.88, -36.63, 68.82, 48.53, -3.94, 29.28, 63.45, 16.38, -42.77, 5.68, 70.03, 47.68, 52.42, 24.35, 47.48, -10.99, 70.86, 60.7, 39.88, 15.69, 38.3, -7.02, 48.64, 46.21, 39.95, -25.97, -10.45, -46.28, 51.26, 42, 14.07, -2.51, 26.54, 4.94, 24.09, 50.68, -28, -18.17, -30.17, 45.08, 18.44, 44.94, 8.13, 33.08, 70.62, 45.6, 41.89, 32.9, 40.36, 31.42, 47.96, 18.39, 67.55, 5.38, 20.86, 27.44, 52.96, 35.73, 65.95, -23.99, -40.81, 15.17, -35.71, 55.6, 15.09, 23.99, -0.59, -31.4, 50.56, 41.25, 27.71, 4.27, -12.9, 68.05, 37.8, -31.47, 18.62, 30.82, 58.3, -0.49, 5.56, 48.05, 40.64, 13.69, -33.3, 34.64, 66.56, 27.03, 40.71, 5.88, 25.22, -16.19, 56.97, 24.63, 44.84, 4.12, -5.25, 52.03, 60.74, 0.61, 47.19, -12.18, -22.82, 48.95, 7.53, -22.73, 49.27, -30.72, 26.54, -20.21, 18.69, 9.93, 53.65, -34.48, 37.46, -43.03, 10.57, 58.84, 35.77, 64.57, 65.53, 13.07, 32.83, -28.55, -32.72, 30.43, 14.32, -27.7, -14.83, -22.54, -25.24, 46.71, 30.04, -7.38, 32.24, -41.87, -19.98, 54.78, 51.67, -11.2, 25.91, 36.84, 64.86, 68.22, 36.73, 66.54, -25.41, 43.12, 61.99, 66.83, -29.95, 43.84, 52.87, 26.23, 31.95, -11.1, 41.28, 42, 52.16, -43.53, 27.97, 29.36, 17.01, 28.71, 55.69, 60.93, 55.65, -34.58, 13.22, 27.87, 37.32, 50.34, 2.04, 8.54, 20.71, -0.19, 27.66, 52.09, 69.01, 3.78, 13.93, 13.79, 62.53, 21.43, 32.43, 21.53, -25.41, -38.72, 4.71, 44.63, -22.95, -21.12, 56.07, 46.82, 55.1, -6.87, 71.03, 44.37, 14.89, 66.08, -4.05, 46.54, 37.64, 62.63, 71, 52.3, 26.44, 31.45, -33.3, 43.74, 42.84, 15.82, 16.29, 56.48, 10.62, 44.62, -13.97, 35.51, 17.08, -7.52, 19.15, 57.87, 16.28, -17.89, 59.1, 43.21, 11.24, -16.48, -3.38, 16.99, 54.37, 13.8, 20.47, -33.86, 52.08, 60.79, -18.65, 28.39, 38.58, 53.05, 22.52, -34.85, 41.93, 41.36, 61.99, 53.6, 59.36, 53.22, 45.01, 63.01, 61.92, 49, 40.33, 13.93], 'Max Temperature': [31.67, 8.6, 9, 25, 30.56, 5, 12, 24, 17, 22.6, 38, 10.7, 7.22, 12.9, 27, 25, 13.33, 33, 13.5, 25, 22.22, 26.11, 24.7, 12.78, 16.9, 34, 29.6, 31, 13.3, 26.6, 20.9, 22.9, 22.3, 16, 22, 10.1, 23.3, 9.1, 29.4, 12.1, 19.4, 22.8, 21.6, 7.1, 28.33, 25, 31.67, 26, 13, 23.1, 29, 17.8, 27.3, 19, 24.5, 38.6, 17.8, 9, 23, 29, 28, 16.67, 21.4, 31.67, 23, 14, 15.5, 20.4, 23.6, 28.2, 13, 29, 13.2, 32.78, 28, 13.89, 19, 7.4, 15, 6.3, 24, 5, 16.8, 27.22, 29, -1.01, 23.33, 15, 22, 12.4, 25.1, 26, 11.8, 3.33, 12.5, 27.8, 8.3, 10.8, 7.22, 16.67, 9, 6, 17, 33, 19, 27.78, 13, 21, 26.3, 12, 11, 3, 19.9, 8.4, 17.4, 28, 22, 5.2, 4.44, 29.44, 22, 34.44, 24, 6.6, 13.3, 34, 26, 23, 29.44, 12, 9.5, 22, 31, 30, 9, 33.8, 5.7, 16, 20.9, 5.1, 22, 22.2, 13.9, 14.6, 31.11, 22.2, 26.6, 28.1, 30, 27.78, 19.6, 22.8, 20, 27, 21.9, 16.2, 23.3, 4.44, 18, 16.11, 25.56, 9.9, 32.22, 28, 26.1, 6.1, 37, 6.8, 17, 28.89, 12, 29, 24.6, 26.11, 26, 17.1, 32, 10, 3.8, 31, 21.8, 12.3, 12.7, 16, 14.7, 25, 22.3, 35, 35, 5.1, 15.3, 12.78, 27.78, 22.9, 12, 25.8, 23.5, 26, 20.3, 18, 11, 15.9, 23.89, 21.7, 7.9, 28, 29.8, 25, 29.3, 0.4, 13.4, 22.4, 18, 10.9, 25, 32.2, 16.7, 27.78, 24.2, 27.8, 25, 14, 3.2, 13.9, 29, 27.2, 22.5, 28.8, 18.4, 15, 28.6, 27, 19, 21.5, 27, 21, 19.1, 20, 11, 22.6, 24.4, 23, 10.7, 8.4, 21.5, 22, 7.8, 8.89, 28.3, 14.8, 19.2, 26.5, 14, 26, 7, 27, 12.7, 2.78, 30, 23.33, 27.78, 17.6, 35.56, 16, 21.8, 28.5, 31.11, 21, 16.67, 8.8, 10.2, 7.6, 22, 31.11, 30, 19.5, 29, 32.3, 18.2, 36.67, 13.33, 11.67, 22.78, 26, 11.6, 22.4, 25, 20.56, 27, 5.1, 27.8, 8, 30, 20.6, 21.2, 9, 9.44, 25, 23.6, 22.1, 24, 22, 17.1, 30, 9, 21, 27.78, 25.6, 17, 16.3, 13.1, 10.56, 24, 28.7, 9.9, 24, 9, 22.4, 17.5, 18.2, 24, 13, 7, 23, 24.8, 13.1, 13.2, 32, 12.8, 23.7, 11, 15.6, 13, 29.1, 16.8, 15.3, 5, 10.3, 30.56, 30.1, 19.3, 31.3, 21.11, 26.67, 26.67, 21, 19.9, 4.44, 17, 29.44, 27, 28.3, 30, 30, 38, 10, 12.78, 22, 11.3, 21, 38.7, 28.89, 28, 24, 5.5, 25, 29, 37.22, 26.67, 37, 20.3, 22, 11.6, 28, 28.9, 16.2, 20, 25, 9, 22, 10.2, 21.4, 5, 15, 32, 27.78, 27, 15, 31.67, 29, 22, 30.1, 24, 4.4, 21, 5.3, 31.6, 26.1, 8.8, 25.7, 12.3, 22.78, 26, 29, 14.8, 30, 12.4, 29.1, 17, 34, 29.6, 28, 14, 36, 23, 24.4, 25.5, 20, 10.5, 28, 20, 21, 17.4, 24, 24.4, 18.5, 17.78, 9.5, 29.3, 22, 34.9, 24.5, 18, 8, 27.22, 7.22, 28.4, 10.2, 8.7, 3.5, 15.6, 30, 30, 13.4, 9.44, 30, 32.9, 9.1, 25, 12, 5, 21.1, 34.44, 18.2, 28.4, 9, 22, 16, 13.9, 20.4, 35, 27, 13, 14, 23.7, 12.8, 16.6, 31.67, 22, 13.8, 17, 23.89, 24, 26, 29.2, 15.7, 27.78, 27.78, 27.9, 7.78, 20.4, 36, 26, 36, 14, 19, 9.7, 9.44, 30, 44, 32, 20, 24.5, 27, 32.22, 31.4, 21.5, 20, 3.6, 28.6, 25, 28.8, 5.5, 28.3, 20.1, 24.9, 7.5, 11, 16, 23, 25, 19.3, 19, 28, 23, 18.4, 6, 25.56, 29, 15, 25, 18.7, 26.2, 17, 7, 10.3, 36.11, 26.1, 8.8, 27.78, 26.7, 20.8, 28.3, 12.78, 22.6, 22.22, 16.9, 26, 23.5, 33, 23, 19.44, 38.3, 22.8, 12.1, 23.89, 33, 26.3, 37, 33, 20.56, 23.3, 22.8, 10, 17, 16, 23, 34.44, 29.44, 14, 29.7, 10.56, 27, 30, 5.6, 21, 17, 19.44, 25.56, 10.9, 13.5, 22, 28.89, 32.9], 'Cloudiness': [75, 100, 0, 0, 20, 20, 20, 20, 75, 81, 0, 2, 100, 37, 75, 44, 100, 16, 100, 75, 90, 20, 100, 9, 77, 20, 13, 20, 52, 22, 100, 61, 98, 20, 0, 0, 28, 11, 100, 100, 7, 100, 1, 100, 20, 20, 1, 75, 100, 100, 75, 98, 97, 75, 100, 9, 37, 75, 20, 0, 1, 75, 2, 20, 0, 0, 0, 84, 100, 100, 75, 40, 0, 0, 90, 0, 40, 60, 90, 0, 40, 75, 100, 40, 75, 100, 0, 75, 20, 50, 100, 0, 34, 59, 75, 100, 0, 0, 100, 45, 90, 75, 75, 20, 40, 0, 100, 40, 73, 0, 90, 0, 0, 94, 91, 0, 40, 0, 91, 20, 20, 40, 75, 100, 57, 75, 40, 0, 20, 0, 100, 20, 75, 40, 90, 52, 100, 75, 0, 12, 90, 86, 69, 100, 40, 100, 100, 78, 0, 75, 1, 31, 0, 40, 0, 3, 82, 100, 96, 0, 100, 72, 20, 0, 100, 1, 0, 100, 0, 40, 19, 20, 41, 0, 20, 67, 40, 40, 100, 1, 99, 87, 0, 0, 100, 0, 89, 0, 0, 0, 53, 0, 40, 90, 0, 100, 0, 1, 0, 90, 65, 12, 0, 0, 100, 40, 61, 0, 91, 100, 0, 100, 0, 100, 75, 100, 0, 90, 14, 74, 75, 40, 100, 95, 40, 100, 0, 48, 100, 0, 96, 20, 40, 11, 40, 20, 74, 0, 40, 100, 0, 100, 37, 0, 57, 17, 31, 80, 100, 100, 61, 100, 0, 100, 75, 75, 35, 38, 20, 75, 20, 23, 20, 20, 0, 74, 20, 0, 75, 35, 14, 85, 90, 1, 20, 81, 20, 42, 100, 40, 90, 90, 75, 1, 25, 100, 20, 75, 40, 100, 49, 20, 75, 84, 0, 75, 36, 20, 42, 0, 18, 75, 44, 5, 20, 40, 40, 100, 0, 49, 0, 90, 20, 100, 95, 32, 90, 100, 98, 57, 16, 0, 75, 0, 3, 100, 100, 40, 67, 100, 0, 20, 47, 100, 0, 78, 75, 100, 90, 0, 100, 0, 75, 0, 75, 0, 0, 81, 75, 0, 100, 53, 75, 25, 0, 100, 1, 40, 33, 40, 34, 75, 40, 40, 0, 0, 40, 20, 0, 1, 0, 0, 100, 26, 100, 100, 75, 20, 90, 90, 0, 100, 0, 0, 75, 40, 75, 0, 0, 40, 75, 60, 0, 100, 20, 0, 0, 56, 88, 21, 88, 89, 90, 72, 0, 1, 99, 0, 20, 40, 4, 0, 0, 0, 0, 0, 84, 40, 100, 75, 34, 66, 100, 0, 100, 2, 100, 0, 100, 20, 38, 100, 90, 100, 90, 75, 100, 94, 0, 100, 42, 75, 75, 0, 90, 26, 85, 0, 20, 40, 0, 8, 40, 41, 0, 75, 20, 75, 34, 5, 20, 90, 90, 40, 0, 99, 0, 0, 0, 69, 0, 20, 1, 89, 0, 31, 1, 1, 51, 31, 0, 1, 90, 5, 0, 40, 36, 0, 75, 40, 0, 20, 45, 40, 40, 18, 57, 40, 0, 100, 90, 65, 100, 1, 99, 93, 62, 0, 40, 0, 0, 42, 75, 20, 90, 17, 100, 90, 20, 91, 40, 0, 98, 20, 0, 78, 0, 0, 62, 0, 0, 100, 100, 100, 100, 0, 42, 0, 94, 75, 100, 0, 69, 0, 1, 0, 40, 18, 38, 20, 0, 100, 81, 100, 0, 90, 75, 20, 1, 90, 70, 75, 0, 1, 29, 0, 75, 0, 0, 100, 100, 75, 75, 100], 'Humidity': [78, 72, 76, 57, 39, 93, 93, 50, 77, 52, 45, 92, 91, 72, 88, 49, 52, 75, 80, 57, 77, 53, 91, 89, 86, 49, 29, 70, 58, 77, 95, 87, 43, 41, 77, 53, 68, 66, 67, 67, 84, 92, 94, 92, 77, 41, 37, 65, 87, 68, 78, 87, 89, 93, 70, 12, 69, 87, 64, 37, 39, 82, 81, 74, 21, 28, 89, 73, 92, 80, 62, 74, 61, 31, 74, 93, 68, 85, 93, 73, 44, 84, 46, 78, 79, 92, 47, 87, 73, 84, 84, 88, 89, 92, 87, 72, 49, 45, 92, 84, 87, 81, 77, 63, 63, 51, 87, 26, 66, 93, 81, 59, 82, 95, 82, 14, 100, 89, 88, 34, 73, 49, 57, 95, 86, 46, 65, 94, 32, 87, 99, 73, 62, 32, 93, 18, 85, 87, 42, 67, 88, 44, 85, 97, 83, 82, 82, 78, 61, 65, 83, 77, 77, 94, 94, 93, 89, 88, 80, 82, 74, 97, 55, 65, 84, 73, 41, 93, 26, 44, 100, 83, 80, 78, 44, 94, 59, 81, 91, 58, 91, 97, 93, 93, 88, 50, 27, 32, 69, 74, 82, 87, 69, 90, 87, 73, 85, 83, 31, 48, 67, 52, 73, 74, 86, 88, 69, 83, 51, 85, 54, 98, 21, 95, 94, 58, 85, 61, 22, 57, 94, 58, 81, 44, 89, 80, 67, 78, 96, 67, 75, 100, 93, 80, 88, 88, 96, 68, 57, 95, 38, 98, 91, 87, 69, 83, 81, 100, 79, 80, 99, 86, 44, 87, 81, 74, 81, 94, 20, 55, 74, 95, 50, 93, 82, 69, 45, 68, 87, 50, 84, 83, 30, 19, 62, 89, 45, 15, 28, 34, 93, 93, 60, 100, 89, 99, 83, 93, 94, 96, 56, 75, 51, 94, 72, 75, 100, 100, 69, 63, 92, 68, 89, 79, 70, 26, 83, 63, 290, 56, 91, 100, 78, 36, 96, 66, 76, 88, 94, 86, 84, 50, 81, 49, 76, 99, 99, 49, 39, 91, 76, 68, 97, 74, 81, 61, 93, 97, 42, 68, 79, 29, 68, 48, 65, 88, 90, 74, 63, 20, 83, 77, 70, 70, 16, 87, 93, 73, 64, 82, 11, 54, 83, 78, 64, 53, 37, 21, 39, 19, 60, 77, 91, 76, 80, 94, 82, 100, 100, 83, 58, 69, 86, 76, 59, 27, 69, 38, 38, 61, 94, 60, 83, 97, 88, 81, 61, 88, 96, 60, 86, 73, 94, 65, 18, 68, 88, 27, 77, 46, 21, 45, 76, 14, 54, 75, 83, 82, 98, 74, 87, 88, 92, 53, 88, 18, 64, 30, 73, 73, 30, 93, 93, 77, 100, 93, 79, 89, 70, 95, 88, 70, 83, 87, 100, 65, 46, 30, 29, 66, 52, 56, 49, 93, 65, 87, 73, 63, 93, 81, 59, 88, 93, 67, 59, 84, 48, 28, 43, 78, 45, 60, 73, 90, 24, 85, 50, 40, 64, 74, 87, 37, 94, 47, 71, 93, 82, 87, 70, 12, 19, 77, 87, 94, 58, 47, 84, 77, 84, 77, 100, 53, 92, 46, 95, 93, 78, 42, 72, 88, 83, 70, 72, 39, 73, 93, 81, 73, 62, 71, 88, 80, 87, 67, 87, 95, 52, 25, 88, 74, 26, 91, 82, 87, 95, 69, 70, 78, 95, 46, 93, 55, 22, 73, 70, 73, 63, 82, 28, 63, 72, 96, 89, 57, 93, 100, 94, 24, 48, 100, 74, 87, 61, 44, 82, 83, 77, 82, 65, 95, 48, 60, 54, 51], 'Windspeed': [1.5, 0.42, 2.1, 8, 2.1, 2.14, 3.1, 1, 5.1, 5.33, 2.1, 2.16, 1.27, 3.62, 2.89, 0.8, 6.78, 0.5, 3.2, 7.7, 4.1, 7.7, 3.58, 1.42, 2.54, 2.6, 5.68, 6.2, 2.11, 9.31, 0.83, 4, 0.71, 7.2, 1.5, 1.85, 8.42, 3.76, 4.27, 1.26, 0.71, 0.63, 1.05, 4.36, 7.2, 3.13, 2.6, 2.1, 2.1, 4.42, 7.2, 0.4, 1.5, 3.6, 6.56, 3.13, 1.84, 4.6, 6.7, 5.7, 0.7, 4.6, 4.54, 4.6, 3.91, 3.6, 0.91, 7.33, 1.08, 11.05, 1.5, 7.7, 0.82, 0.89, 6.66, 1.5, 2.1, 3.61, 2.1, 2.47, 3.1, 4.6, 2.96, 1.5, 3.1, 4.79, 1.04, 2.6, 4.1, 3.31, 5.88, 7.7, 2.5, 3.06, 0.52, 4.44, 4.85, 5.05, 0.89, 2.24, 2.1, 4, 3.6, 2.6, 9.8, 4.1, 2.1, 9.3, 6.4, 1, 7.2, 3.1, 1.68, 2.6, 7.39, 4.1, 1, 1.83, 2.68, 6.7, 4.1, 7.2, 3.6, 7.11, 7.29, 5.1, 3.6, 0.5, 3.6, 1.5, 3.46, 4.1, 5.1, 6.2, 2.6, 2.74, 4.58, 8.2, 1.96, 6.63, 1.5, 2.17, 4.41, 2.65, 2.77, 2.63, 4.24, 3.33, 2.6, 2.1, 1.3, 2.84, 3.1, 5.1, 1.29, 4.14, 4.21, 2.68, 2.59, 2.6, 2.24, 3.3, 3.6, 5.1, 5.03, 1.95, 4.1, 4.39, 5.53, 3.6, 1.5, 3.1, 8.97, 3.6, 4.1, 0.83, 6.2, 6.2, 5.28, 5.1, 2.02, 2.09, 1.04, 1.27, 0.67, 3.6, 2.8, 5.1, 4.6, 1.78, 1.64, 3.1, 6.2, 3.09, 0.5, 0.69, 7.93, 6.62, 4.3, 3.6, 7.51, 1.89, 4.1, 11.39, 1.01, 2.2, 2.36, 1.5, 2.74, 5.61, 2.24, 2.72, 1.5, 1.12, 2.1, 1.05, 1.64, 6.2, 1.7, 1.37, 3.6, 3.1, 6.95, 5.67, 1, 3.9, 5.47, 6.21, 1.95, 2.1, 5.53, 3.1, 3, 4.67, 5.1, 5.1, 1.32, 4.1, 2.1, 4.35, 4.13, 2.77, 2.34, 2.17, 1.7, 1.43, 3.32, 12.19, 8.11, 3.92, 1.06, 4.86, 3.1, 2.37, 2.1, 7.2, 5.36, 0.45, 3.6, 1.5, 2.6, 1.4, 3.1, 8.97, 5.35, 2.57, 6.2, 4.1, 2.1, 4.86, 4.23, 5.46, 3.1, 2.1, 9.3, 1, 1, 6.87, 6.3, 7.7, 1, 4.6, 3.6, 0.5, 2.79, 0.66, 2.6, 4.6, 2.6, 4.86, 0.26, 2.6, 5.37, 0.3, 1.6, 2.1, 5.91, 0.36, 4.32, 4.27, 1.72, 2.1, 8.78, 3.1, 5.7, 9.3, 1, 3.26, 7.2, 2.88, 1.69, 1.5, 2.6, 11.11, 1.49, 1.5, 2.1, 0.76, 0.63, 4.64, 1.98, 7.7, 2.1, 3.1, 9.86, 1.25, 2.91, 4.1, 11.28, 3.99, 4.1, 1.86, 0.89, 7.45, 8.96, 0.8, 4.6, 0.9, 3.6, 3.38, 7.21, 2.54, 3.1, 3.13, 3.6, 5.7, 1.98, 2.68, 7.2, 2.1, 11.93, 1.4, 3.1, 1.5, 2.1, 1.46, 1.5, 2.6, 5.23, 7.2, 3.68, 2.13, 1.5, 4.6, 4, 4.6, 2.1, 2.6, 2, 1.86, 4.91, 3.1, 8.61, 7.6, 9.25, 2, 5.1, 2.6, 4, 4.6, 5.75, 0.61, 1.01, 3, 5.7, 2.1, 5.1, 10.3, 0.89, 2.1, 1.5, 0.76, 1, 7.76, 5.1, 0.57, 1.07, 3.11, 2.39, 1.12, 2.78, 2.1, 3.1, 5.23, 0.96, 6.7, 9.17, 4.03, 2, 2.6, 5.57, 7.2, 1.5, 2.6, 3.46, 8.79, 6.84, 4.6, 4.25, 2.6, 1, 2.6, 1.72, 4.1, 6.07, 2.51, 0.45, 3.44, 7.44, 4.1, 7.18, 1.76, 1, 6.87, 5.1, 6.2, 8.19, 4.3, 0.19, 2.26, 10.56, 9.8, 1, 3.42, 3.6, 3.65, 9.58, 1.85, 11.3, 7.2, 3.1, 3.75, 2.6, 1.4, 4.02, 4.6, 4.1, 3.6, 1.09, 5.18, 5.1, 5.1, 4.6, 1, 1.71, 11.33, 1.41, 3.6, 6.2, 9.01, 5.1, 3.6, 2.6, 1.7, 3.33, 5.61, 4.1, 7.15, 6.95, 6.2, 5.7, 4.1, 1.5, 4.1, 2.1, 3, 1.71, 4.1, 9.8, 4.6, 5.1, 2.6, 6.63, 5.1, 4.1, 1.75, 1.24, 4.6, 2.46, 5.2, 3.6, 6.86, 1.67, 1.25, 1.29, 1.65, 3.87, 4.19, 2.1, 5.1, 2.6, 7.06, 2.1, 7.7, 4.6, 3.76, 2.77, 7.2, 8.2, 9.98, 2.6, 1.59, 5.08, 2.1, 5.1, 2.84, 2.24, 2.89, 2.23, 4.47, 7.64, 6.4, 9.01, 0.45, 2.08, 7.15, 4.24, 5.1, 0.95, 0.5, 6.47, 3.1, 5.2, 4.31, 3.3, 2.6, 3.1, 5.9, 1.87, 2.6, 2.6, 2.95, 3.26, 7.7, 3, 12.3, 1, 3.6, 2.23, 2, 4.12, 1.29, 2.1, 4.1, 7.07, 2, 3.1, 5.1, 2.1, 3.43, 0.96, 2.6, 2.1, 1.49]}\n"
     ]
    }
   ],
   "source": [
    "#Create new Df\n",
    "weather_df = ({'City': city,\n",
    "              'Country': country,\n",
    "              'Lattitude': lat,\n",
    "              'Max Temperature': max_temp,\n",
    "              'Cloudiness': cloudiness,\n",
    "              'Humidity': humidity,\n",
    "              'Windspeed':windspeed})\n",
    "print(weather_df)"
   ]
  },
  {
   "cell_type": "code",
   "execution_count": null,
   "metadata": {},
   "outputs": [],
   "source": []
  },
  {
   "cell_type": "markdown",
   "metadata": {},
   "source": [
    "### Plotting the Data\n",
    "* Use proper labeling of the plots using plot titles (including date of analysis) and axes labels.\n",
    "* Save the plotted figures as .pngs."
   ]
  },
  {
   "cell_type": "markdown",
   "metadata": {},
   "source": [
    "#### Latitude vs. Temperature Plot"
   ]
  },
  {
   "cell_type": "code",
   "execution_count": 11,
   "metadata": {},
   "outputs": [
    {
     "data": {
      "image/png": "[encoded data removed]",
      "text/plain": [
       "<Figure size 432x288 with 1 Axes>"
      ]
     },
     "metadata": {
      "needs_background": "light"
     },
     "output_type": "display_data"
    }
   ],
   "source": [
    "plt.scatter(lat, max_temp)\n",
    "plt.xlabel('Lattitude')\n",
    "plt.ylabel('Max Temperature')\n",
    "plt.title('City Lattitude vs Max Temperature')\n",
    "\n",
    "plt.savefig('City lat vs max temp')"
   ]
  },
  {
   "cell_type": "markdown",
   "metadata": {},
   "source": [
    "#### Latitude vs. Humidity Plot"
   ]
  },
  {
   "cell_type": "code",
   "execution_count": 12,
   "metadata": {},
   "outputs": [
    {
     "data": {
      "image/png": "[encoded data removed]",
      "text/plain": [
       "<Figure size 432x288 with 1 Axes>"
      ]
     },
     "metadata": {
      "needs_background": "light"
     },
     "output_type": "display_data"
    }
   ],
   "source": [
    "plt.scatter(lat, humidity)\n",
    "plt.xlabel('Lattitude')\n",
    "plt.ylabel('Humidity')\n",
    "plt.title('City Lattitude vs Humidity')\n",
    "plt.savefig('City lat vs max humidity')"
   ]
  },
  {
   "cell_type": "markdown",
   "metadata": {},
   "source": [
    "#### Latitude vs. Cloudiness Plot"
   ]
  },
  {
   "cell_type": "code",
   "execution_count": 13,
   "metadata": {},
   "outputs": [
    {
     "data": {
      "image/png": "[encoded data removed]",
      "text/plain": [
       "<Figure size 432x288 with 1 Axes>"
      ]
     },
     "metadata": {
      "needs_background": "light"
     },
     "output_type": "display_data"
    }
   ],
   "source": [
    "plt.scatter(lat, cloudiness)\n",
    "plt.xlabel('Lattitude')\n",
    "plt.ylabel('Cloudiness')\n",
    "plt.title('City Lattitude vs Cloudiness')\n",
    "plt.savefig('City lat vs humidity')"
   ]
  },
  {
   "cell_type": "markdown",
   "metadata": {},
   "source": [
    "#### Latitude vs. Wind Speed Plot"
   ]
  },
  {
   "cell_type": "code",
   "execution_count": 14,
   "metadata": {},
   "outputs": [
    {
     "data": {
      "image/png": "[encoded data removed]",
      "text/plain": [
       "<Figure size 432x288 with 1 Axes>"
      ]
     },
     "metadata": {
      "needs_background": "light"
     },
     "output_type": "display_data"
    }
   ],
   "source": [
    "plt.scatter(lat, windspeed)\n",
    "plt.xlabel('Lattitude')\n",
    "plt.ylabel('Windspeed')\n",
    "plt.title('City Lattitude vs Windspeed')\n",
    "plt.savefig('City lat vs windiness')"
   ]
  },
  {
   "cell_type": "code",
   "execution_count": null,
   "metadata": {},
   "outputs": [],
   "source": []
  },
  {
   "cell_type": "code",
   "execution_count": null,
   "metadata": {},
   "outputs": [],
   "source": []
  }
 ],
 "metadata": {
  "anaconda-cloud": {},
  "kernel_info": {
   "name": "python3"
  },
  "kernelspec": {
   "display_name": "Python 3",
   "language": "python",
   "name": "python3"
  },
  "language_info": {
   "codemirror_mode": {
    "name": "ipython",
    "version": 3
   },
   "file_extension": ".py",
   "mimetype": "text/x-python",
   "name": "python",
   "nbconvert_exporter": "python",
   "pygments_lexer": "ipython3",
   "version": "3.7.3"
  },
  "nteract": {
   "version": "0.12.3"
  }
 },
 "nbformat": 4,
 "nbformat_minor": 2
}
